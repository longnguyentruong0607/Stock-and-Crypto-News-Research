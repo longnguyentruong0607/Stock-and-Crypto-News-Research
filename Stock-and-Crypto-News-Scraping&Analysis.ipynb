{
 "cells": [
  {
   "cell_type": "code",
   "execution_count": 4,
   "id": "7924c57e",
   "metadata": {},
   "outputs": [
    {
     "name": "stdout",
     "output_type": "stream",
     "text": [
      "Requirement already satisfied: transformers in /home/long/miniconda3/envs/ml30/lib/python3.8/site-packages (4.11.1)\n",
      "Requirement already satisfied: sacremoses in /home/long/miniconda3/envs/ml30/lib/python3.8/site-packages (from transformers) (0.0.46)\n",
      "Requirement already satisfied: huggingface-hub>=0.0.17 in /home/long/miniconda3/envs/ml30/lib/python3.8/site-packages (from transformers) (0.0.17)\n",
      "Requirement already satisfied: filelock in /home/long/miniconda3/envs/ml30/lib/python3.8/site-packages (from transformers) (3.2.0)\n",
      "Requirement already satisfied: requests in /home/long/.local/lib/python3.8/site-packages (from transformers) (2.26.0)\n",
      "Requirement already satisfied: packaging>=20.0 in /home/long/miniconda3/envs/ml30/lib/python3.8/site-packages (from transformers) (21.0)\n",
      "Requirement already satisfied: numpy>=1.17 in /home/long/.local/lib/python3.8/site-packages (from transformers) (1.19.5)\n",
      "Requirement already satisfied: regex!=2019.12.17 in /home/long/miniconda3/envs/ml30/lib/python3.8/site-packages (from transformers) (2021.9.24)\n",
      "Requirement already satisfied: tokenizers<0.11,>=0.10.1 in /home/long/miniconda3/envs/ml30/lib/python3.8/site-packages (from transformers) (0.10.3)\n",
      "Requirement already satisfied: pyyaml>=5.1 in /home/long/miniconda3/envs/ml30/lib/python3.8/site-packages (from transformers) (5.4.1)\n",
      "Requirement already satisfied: tqdm>=4.27 in /home/long/miniconda3/envs/ml30/lib/python3.8/site-packages (from transformers) (4.62.3)\n",
      "Requirement already satisfied: typing-extensions in /home/long/.local/lib/python3.8/site-packages (from huggingface-hub>=0.0.17->transformers) (3.7.4.3)\n",
      "Requirement already satisfied: pyparsing>=2.0.2 in /home/long/miniconda3/envs/ml30/lib/python3.8/site-packages (from packaging>=20.0->transformers) (2.4.7)\n",
      "Requirement already satisfied: urllib3<1.27,>=1.21.1 in /home/long/miniconda3/envs/ml30/lib/python3.8/site-packages (from requests->transformers) (1.26.7)\n",
      "Requirement already satisfied: idna<4,>=2.5 in /home/long/miniconda3/envs/ml30/lib/python3.8/site-packages (from requests->transformers) (3.1)\n",
      "Requirement already satisfied: certifi>=2017.4.17 in /home/long/miniconda3/envs/ml30/lib/python3.8/site-packages (from requests->transformers) (2021.5.30)\n",
      "Requirement already satisfied: charset-normalizer~=2.0.0 in /home/long/.local/lib/python3.8/site-packages (from requests->transformers) (2.0.6)\n",
      "Requirement already satisfied: six in /home/long/.local/lib/python3.8/site-packages (from sacremoses->transformers) (1.15.0)\n",
      "Requirement already satisfied: click in /home/long/miniconda3/envs/ml30/lib/python3.8/site-packages (from sacremoses->transformers) (8.0.1)\n",
      "Requirement already satisfied: joblib in /home/long/miniconda3/envs/ml30/lib/python3.8/site-packages (from sacremoses->transformers) (1.0.1)\n"
     ]
    }
   ],
   "source": [
    "!pip install transformers"
   ]
  },
  {
   "cell_type": "code",
   "execution_count": 7,
   "id": "e3360cde",
   "metadata": {},
   "outputs": [
    {
     "name": "stdout",
     "output_type": "stream",
     "text": [
      "Collecting sentencepiece\n",
      "  Downloading sentencepiece-0.1.96-cp38-cp38-manylinux_2_17_x86_64.manylinux2014_x86_64.whl (1.2 MB)\n",
      "\u001b[K     |████████████████████████████████| 1.2 MB 1.2 MB/s eta 0:00:01\n",
      "\u001b[?25hInstalling collected packages: sentencepiece\n",
      "Successfully installed sentencepiece-0.1.96\n",
      "Note: you may need to restart the kernel to use updated packages.\n"
     ]
    }
   ],
   "source": [
    "pip install sentencepiece"
   ]
  },
  {
   "cell_type": "code",
   "execution_count": 5,
   "id": "47ccbe66",
   "metadata": {
    "scrolled": true
   },
   "outputs": [
    {
     "name": "stdout",
     "output_type": "stream",
     "text": [
      "Looking in links: https://download.pytorch.org/whl/torch_stable.html\n",
      "Collecting torch==1.9.1+cpu\n",
      "  Downloading https://download.pytorch.org/whl/cpu/torch-1.9.1%2Bcpu-cp38-cp38-linux_x86_64.whl (175.4 MB)\n",
      "\u001b[K     |████████████████████████████████| 175.4 MB 23 kB/s  eta 0:00:01    |████▋                           | 25.5 MB 3.2 MB/s eta 0:00:47     |██████████████▊                 | 80.9 MB 2.9 MB/s eta 0:00:34     |███████████████████████████▌    | 150.6 MB 5.5 MB/s eta 0:00:05\n",
      "\u001b[?25hCollecting torchvision==0.10.1+cpu\n",
      "  Downloading https://download.pytorch.org/whl/cpu/torchvision-0.10.1%2Bcpu-cp38-cp38-linux_x86_64.whl (15.7 MB)\n",
      "\u001b[K     |████████████████████████████████| 15.7 MB 2.7 MB/s eta 0:00:01    |████████████████▏               | 7.9 MB 2.6 MB/s eta 0:00:04\n",
      "\u001b[?25hCollecting torchaudio==0.9.1\n",
      "  Downloading torchaudio-0.9.1-cp38-cp38-manylinux1_x86_64.whl (1.9 MB)\n",
      "\u001b[K     |████████████████████████████████| 1.9 MB 1.2 MB/s eta 0:00:01\n",
      "\u001b[?25hRequirement already satisfied: typing-extensions in /home/long/.local/lib/python3.8/site-packages (from torch==1.9.1+cpu) (3.7.4.3)\n",
      "Requirement already satisfied: numpy in /home/long/.local/lib/python3.8/site-packages (from torchvision==0.10.1+cpu) (1.19.5)\n",
      "Requirement already satisfied: pillow>=5.3.0 in /home/long/miniconda3/envs/ml30/lib/python3.8/site-packages (from torchvision==0.10.1+cpu) (8.3.2)\n",
      "Installing collected packages: torch, torchvision, torchaudio\n",
      "Successfully installed torch-1.9.1+cpu torchaudio-0.9.1 torchvision-0.10.1+cpu\n",
      "Note: you may need to restart the kernel to use updated packages.\n"
     ]
    }
   ],
   "source": [
    "pip install torch==1.9.1+cpu torchvision==0.10.1+cpu torchaudio==0.9.1 -f https://download.pytorch.org/whl/torch_stable.html"
   ]
  },
  {
   "cell_type": "markdown",
   "id": "e60574ed",
   "metadata": {},
   "source": [
    "# 1. Setup Sumarization Model"
   ]
  },
  {
   "cell_type": "code",
   "execution_count": 1,
   "id": "d45306e1",
   "metadata": {},
   "outputs": [
    {
     "name": "stderr",
     "output_type": "stream",
     "text": [
      "2021-10-01 00:54:29.353391: W tensorflow/stream_executor/platform/default/dso_loader.cc:64] Could not load dynamic library 'libcudart.so.11.0'; dlerror: libcudart.so.11.0: cannot open shared object file: No such file or directory\n",
      "2021-10-01 00:54:29.353407: I tensorflow/stream_executor/cuda/cudart_stub.cc:29] Ignore above cudart dlerror if you do not have a GPU set up on your machine.\n"
     ]
    }
   ],
   "source": [
    "from transformers import PegasusTokenizer, PegasusForConditionalGeneration\n",
    "from bs4 import BeautifulSoup\n",
    "import requests"
   ]
  },
  {
   "cell_type": "code",
   "execution_count": 2,
   "id": "4d622436",
   "metadata": {},
   "outputs": [
    {
     "data": {
      "application/vnd.jupyter.widget-view+json": {
       "model_id": "674acd7a93854e61a1b37aa87eea9179",
       "version_major": 2,
       "version_minor": 0
      },
      "text/plain": [
       "Downloading:   0%|          | 0.00/2.12G [00:00<?, ?B/s]"
      ]
     },
     "metadata": {},
     "output_type": "display_data"
    }
   ],
   "source": [
    "model_name = \"human-centered-summarization/financial-summarization-pegasus\"\n",
    "tokenizer = PegasusTokenizer.from_pretrained(model_name)\n",
    "model = PegasusForConditionalGeneration.from_pretrained(model_name)"
   ]
  },
  {
   "cell_type": "markdown",
   "id": "ff2db0b3",
   "metadata": {},
   "source": [
    "# 2. Testing summarize a single article\n",
    "https://finance.yahoo.com/news/bitcoin-price-prediction-bulls-eye-114742508.html"
   ]
  },
  {
   "cell_type": "code",
   "execution_count": 20,
   "id": "72c4b05f",
   "metadata": {},
   "outputs": [],
   "source": [
    "url = \"https://finance.yahoo.com/news/bitcoin-price-prediction-bulls-eye-114742508.html\"\n",
    "r = requests.get(url)\n",
    "soup = BeautifulSoup(r.text, 'html.parser')\n",
    "paragraphs = soup.find_all('p')"
   ]
  },
  {
   "cell_type": "code",
   "execution_count": 22,
   "id": "c8f81c41",
   "metadata": {},
   "outputs": [
    {
     "data": {
      "text/plain": [
       "'After a bullish day for Bitcoin and the majors on Wednesday, it’s been a broadly bullish Wednesday morning.'"
      ]
     },
     "execution_count": 22,
     "metadata": {},
     "output_type": "execute_result"
    }
   ],
   "source": [
    "paragraphs[1].text"
   ]
  },
  {
   "cell_type": "code",
   "execution_count": 37,
   "id": "cf182957",
   "metadata": {},
   "outputs": [],
   "source": [
    "text = [paragraph.text for paragraph in paragraphs]\n",
    "words = ' '.join(text).split(' ')[:350]\n",
    "ARTICLE = ' '.join(words)"
   ]
  },
  {
   "cell_type": "code",
   "execution_count": 38,
   "id": "cd2bb45e",
   "metadata": {},
   "outputs": [
    {
     "data": {
      "text/plain": [
       "' After a bullish day for Bitcoin and the majors on Wednesday, it’s been a broadly bullish Wednesday morning. At the time of writing, Bitcoin, BTC to USD, was up by 3.75% to $43,086.1. A mixed start to the day saw Bitcoin fall to an early morning low $41,432.0 before making a move. Steering clear of the first major support level at $40,687, Bitcoin rallied to a mid-morning current day high $43,860. Bitcoin broke through the first major resistance level at $42,489 and the 38.2% FIB of $41,592. The early rally saw Bitcoin also break through the second major resistance level at $43,449 before revising sub-$43,000 levels. It has been a mixed morning for the broader crypto market. At the time of writing, Polkadot was down by 1.61% to buck the morning trend. It’s been a bullish morning for the rest of the majors, however. Chainlink (+3.92%), Ethereum (+3.81%), and Litecoin (+4.11%) set the morning pace. Binance Coin (+1.39%), Bitcoin Cash SV (+2.04%), Cardano’s ADA (+0.84%), Crypto.com Coin (+2.99%), and Ripple’s XRP (+1.07%) trailed the front runners, however. Through the early hours, the crypto total market cap fell to an early morning low $1,854bn before rising to a high $1,951bn. At the time of writing, the total market cap stood at $1,912bn. Bitcoin’s dominance fell to an early morning low 42.00% before rising to a high 42.44%. At the time of writing, Bitcoin’s dominance stood at 42.39%. Bitcoin would need to avoid a fall back through the first major resistance level at $42,489 to bring $44,000 levels back into play. Support from the broader market will be needed, however, for Bitcoin to break back through the second major resistance level at $43,449. Barring a broad-based crypto rebound, the second major resistance level and morning high $43,860.0 would likely cap any upside. In the event of an extended rally through the afternoon, Bitcoin could test resistance at $45,000 before any pullback. The third major resistance level sits at $45,251. A fall back through the first major resistance level and through the 38.2% FIB of $41,592 would bring the first major support'"
      ]
     },
     "execution_count": 38,
     "metadata": {},
     "output_type": "execute_result"
    }
   ],
   "source": [
    "ARTICLE"
   ]
  },
  {
   "cell_type": "code",
   "execution_count": 39,
   "id": "bf59b38f",
   "metadata": {},
   "outputs": [],
   "source": [
    "input_ids = tokenizer.encode(ARTICLE, return_tensors='pt')"
   ]
  },
  {
   "cell_type": "code",
   "execution_count": 43,
   "id": "27dd0093",
   "metadata": {},
   "outputs": [],
   "source": [
    "output = model.generate(\n",
    "    input_ids, \n",
    "    max_length=55, \n",
    "    num_beams=5, \n",
    "    early_stopping=True\n",
    ")"
   ]
  },
  {
   "cell_type": "code",
   "execution_count": 44,
   "id": "b4d2fb51",
   "metadata": {},
   "outputs": [],
   "source": [
    "summary = tokenizer.decode(output[0], skip_special_tokens=True)"
   ]
  },
  {
   "cell_type": "code",
   "execution_count": 45,
   "id": "f6f2bd89",
   "metadata": {},
   "outputs": [
    {
     "data": {
      "text/plain": [
       "'Largest cryptocurrency has rallied to a mid-morning high. Chainlink, Ethereum, and Litecoin set the morning pace'"
      ]
     },
     "execution_count": 45,
     "metadata": {},
     "output_type": "execute_result"
    }
   ],
   "source": [
    "summary"
   ]
  },
  {
   "cell_type": "markdown",
   "id": "31b297df",
   "metadata": {},
   "source": [
    "# 3. Build Pipeline"
   ]
  },
  {
   "cell_type": "code",
   "execution_count": 47,
   "id": "e1a59cfe",
   "metadata": {},
   "outputs": [],
   "source": [
    "monitored_tickers = ['GME', 'TSLA', 'BTC']"
   ]
  },
  {
   "cell_type": "markdown",
   "id": "ee811b8f",
   "metadata": {},
   "source": [
    "## 3.1. Search for news using Google & Yahoo Finance"
   ]
  },
  {
   "cell_type": "code",
   "execution_count": 46,
   "id": "f1b67c60",
   "metadata": {},
   "outputs": [],
   "source": [
    "def search_for_stock_news_urls(ticker):\n",
    "    search_url = \"https://www.google.com/search?q=yahoo+finance+{}&tbm=nws\".format(ticker)\n",
    "    r = requests.get(search_url)\n",
    "    soup = BeautifulSoup(r.text, 'html.parser')\n",
    "    atags = soup.find_all('a')\n",
    "    hrefs = [link['href'] for link in atags]\n",
    "    return hrefs"
   ]
  },
  {
   "cell_type": "code",
   "execution_count": 48,
   "id": "012f3527",
   "metadata": {},
   "outputs": [
    {
     "data": {
      "text/plain": [
       "{'GME': ['/?sa=X&ved=0ahUKEwia2_fAqafzAhUHwosBHelaDHAQOwgC',\n",
       "  '/?output=search&ie=UTF-8&tbm=nws&sa=X&ved=0ahUKEwia2_fAqafzAhUHwosBHelaDHAQPAgE',\n",
       "  '/search?q=yahoo+finance+GME&tbm=nws&ie=UTF-8&gbv=1&sei=ewFWYdqxG4eEr7wP6bWxgAc',\n",
       "  '/search?q=yahoo+finance+GME&ie=UTF-8&source=lnms&sa=X&ved=0ahUKEwia2_fAqafzAhUHwosBHelaDHAQ_AUIBygA',\n",
       "  '/search?q=yahoo+finance+GME&ie=UTF-8&tbm=bks&source=lnms&sa=X&ved=0ahUKEwia2_fAqafzAhUHwosBHelaDHAQ_AUICSgC',\n",
       "  '/search?q=yahoo+finance+GME&ie=UTF-8&tbm=vid&source=lnms&sa=X&ved=0ahUKEwia2_fAqafzAhUHwosBHelaDHAQ_AUICigD',\n",
       "  '/search?q=yahoo+finance+GME&ie=UTF-8&tbm=isch&source=lnms&sa=X&ved=0ahUKEwia2_fAqafzAhUHwosBHelaDHAQ_AUICygE',\n",
       "  '/search?q=yahoo+finance+GME&ie=UTF-8&tbm=shop&source=lnms&sa=X&ved=0ahUKEwia2_fAqafzAhUHwosBHelaDHAQ_AUIDCgF',\n",
       "  '/advanced_search',\n",
       "  '/search?q=yahoo+finance+GME&ie=UTF-8&tbm=nws&source=lnt&tbs=lr:lang_1vi&lr=lang_vi&sa=X&ved=0ahUKEwia2_fAqafzAhUHwosBHelaDHAQpwUIDg',\n",
       "  '/search?q=yahoo+finance+GME&ie=UTF-8&tbm=nws&source=lnt&tbs=qdr:h&sa=X&ved=0ahUKEwia2_fAqafzAhUHwosBHelaDHAQpwUIEA',\n",
       "  '/search?q=yahoo+finance+GME&ie=UTF-8&tbm=nws&source=lnt&tbs=qdr:d&sa=X&ved=0ahUKEwia2_fAqafzAhUHwosBHelaDHAQpwUIEQ',\n",
       "  '/search?q=yahoo+finance+GME&ie=UTF-8&tbm=nws&source=lnt&tbs=qdr:w&sa=X&ved=0ahUKEwia2_fAqafzAhUHwosBHelaDHAQpwUIEg',\n",
       "  '/search?q=yahoo+finance+GME&ie=UTF-8&tbm=nws&source=lnt&tbs=qdr:m&sa=X&ved=0ahUKEwia2_fAqafzAhUHwosBHelaDHAQpwUIEw',\n",
       "  '/search?q=yahoo+finance+GME&ie=UTF-8&tbm=nws&source=lnt&tbs=qdr:y&sa=X&ved=0ahUKEwia2_fAqafzAhUHwosBHelaDHAQpwUIFA',\n",
       "  '/search?q=yahoo+finance+GME&ie=UTF-8&tbm=nws&source=lnt&tbs=ar:1&sa=X&ved=0ahUKEwia2_fAqafzAhUHwosBHelaDHAQpwUIFQ',\n",
       "  '/search?q=yahoo+finance+GME&ie=UTF-8&tbm=nws&source=lnt&tbs=sbd:1&sa=X&ved=0ahUKEwia2_fAqafzAhUHwosBHelaDHAQpwUIFw',\n",
       "  '/url?q=https://ca.finance.yahoo.com/news/amc-gme-stocks-citadel-drama-123112651.html&sa=U&ved=2ahUKEwia2_fAqafzAhUHwosBHelaDHAQxfQBegQIABAB&usg=AOvVaw37DqlJoobOzLGtSsnw_c0e',\n",
       "  '/url?q=https://ca.finance.yahoo.com/news/amc-gme-stocks-citadel-drama-123112651.html&sa=U&ved=2ahUKEwia2_fAqafzAhUHwosBHelaDHAQ0Y8FegQIABAC&usg=AOvVaw3bJa2-pTKT2N0OWgA8z4Mm',\n",
       "  '/url?q=https://finance.yahoo.com/news/why-rf-capital-management-continues-164430403.html&sa=U&ved=2ahUKEwia2_fAqafzAhUHwosBHelaDHAQxfQBegQICBAB&usg=AOvVaw1Y_hJlwAg_X-TzpGc4sEIB',\n",
       "  '/url?q=https://finance.yahoo.com/news/why-rf-capital-management-continues-164430403.html&sa=U&ved=2ahUKEwia2_fAqafzAhUHwosBHelaDHAQ0Y8FegQICBAC&usg=AOvVaw2o2-lINGrue12UCOFaoMUk',\n",
       "  '/url?q=https://finance.yahoo.com/news/disheartening-gamestop-gme-earnings-r-212009089.html&sa=U&ved=2ahUKEwia2_fAqafzAhUHwosBHelaDHAQxfQBegQIBxAB&usg=AOvVaw2JGhsWGXc7lXvxJw580KS9',\n",
       "  '/url?q=https://finance.yahoo.com/news/disheartening-gamestop-gme-earnings-r-212009089.html&sa=U&ved=2ahUKEwia2_fAqafzAhUHwosBHelaDHAQ0Y8FegQIBxAC&usg=AOvVaw2l_CCDwnGbPktYmWKxgkuL',\n",
       "  '/url?q=https://finance.yahoo.com/news/game-stop-stock-is-enduring-an-awful-september-180120497.html&sa=U&ved=2ahUKEwia2_fAqafzAhUHwosBHelaDHAQxfQBegQICRAB&usg=AOvVaw36dUlvWspuUM_N3--igOd-',\n",
       "  '/url?q=https://finance.yahoo.com/news/game-stop-stock-is-enduring-an-awful-september-180120497.html&sa=U&ved=2ahUKEwia2_fAqafzAhUHwosBHelaDHAQ0Y8FegQICRAC&usg=AOvVaw3LZ1qBOyKHWc4pGwKzSs8h',\n",
       "  '/url?q=https://finance.yahoo.com/news/gamestop-nyse-gme-earnings-120000520.html&sa=U&ved=2ahUKEwia2_fAqafzAhUHwosBHelaDHAQxfQBegQIBhAB&usg=AOvVaw1oqlHk7fFoKtbSydBdE082',\n",
       "  '/url?q=https://finance.yahoo.com/news/gamestop-nyse-gme-earnings-120000520.html&sa=U&ved=2ahUKEwia2_fAqafzAhUHwosBHelaDHAQ0Y8FegQIBhAC&usg=AOvVaw0nkdeA-kozfv9gNwYzPX4d',\n",
       "  '/url?q=https://finance.yahoo.com/news/gamestop-gme-hire-500-staff-135001043.html&sa=U&ved=2ahUKEwia2_fAqafzAhUHwosBHelaDHAQxfQBegQIAhAB&usg=AOvVaw3BMmM34ekvn4_2bKMXQtXS',\n",
       "  '/url?q=https://finance.yahoo.com/news/gamestop-gme-hire-500-staff-135001043.html&sa=U&ved=2ahUKEwia2_fAqafzAhUHwosBHelaDHAQ0Y8FegQIAhAC&usg=AOvVaw2-vrVl2Vtvaiw81yKgbQWo',\n",
       "  '/url?q=https://finance.yahoo.com/news/15-best-short-squeeze-stocks-140610450.html&sa=U&ved=2ahUKEwia2_fAqafzAhUHwosBHelaDHAQxfQBegQIAxAB&usg=AOvVaw0j4S2xfsPoJol5RtFZbyL8',\n",
       "  '/url?q=https://finance.yahoo.com/news/15-best-short-squeeze-stocks-140610450.html&sa=U&ved=2ahUKEwia2_fAqafzAhUHwosBHelaDHAQ0Y8FegQIAxAC&usg=AOvVaw2HnUy3IZJWHVw_6qp6fapZ',\n",
       "  '/url?q=https://finance.yahoo.com/news/significant-role-of-retail-investing-here-to-stay-suzanne-shank-164155648.html&sa=U&ved=2ahUKEwia2_fAqafzAhUHwosBHelaDHAQxfQBegQIARAB&usg=AOvVaw0DV1mg1Bilp2YJV7drzeff',\n",
       "  '/url?q=https://finance.yahoo.com/news/significant-role-of-retail-investing-here-to-stay-suzanne-shank-164155648.html&sa=U&ved=2ahUKEwia2_fAqafzAhUHwosBHelaDHAQ0Y8FegQIARAC&usg=AOvVaw3ikZYWcU83etgLUnK0eMTb',\n",
       "  '/url?q=https://finance.yahoo.com/news/gamestop-reports-financial-results-q2-200500919.html&sa=U&ved=2ahUKEwia2_fAqafzAhUHwosBHelaDHAQxfQBegQIBRAB&usg=AOvVaw11fre_Ztf_R84m4qRYREHn',\n",
       "  '/url?q=https://finance.yahoo.com/news/gamestop-reports-financial-results-q2-200500919.html&sa=U&ved=2ahUKEwia2_fAqafzAhUHwosBHelaDHAQ0Y8FegQIBRAC&usg=AOvVaw1L72DftD8iHAfOhAWAE5D2',\n",
       "  '/url?q=https://finance.yahoo.com/news/jim-simons-quant-hedge-fund-171007244.html&sa=U&ved=2ahUKEwia2_fAqafzAhUHwosBHelaDHAQxfQBegQIBBAB&usg=AOvVaw0LpEqtn7zgJk1uh0x3e0Mr',\n",
       "  '/url?q=https://finance.yahoo.com/news/jim-simons-quant-hedge-fund-171007244.html&sa=U&ved=2ahUKEwia2_fAqafzAhUHwosBHelaDHAQ0Y8FegQIBBAC&usg=AOvVaw3gK3NH3oCGdWzRjIwh7rG2',\n",
       "  '/search?q=yahoo+finance+GME&ie=UTF-8&tbm=nws&ei=ewFWYdqxG4eEr7wP6bWxgAc&start=10&sa=N',\n",
       "  '/url?q=https://support.google.com/websearch%3Fp%3Dws_settings_location%26hl%3Dvi&sa=U&ved=0ahUKEwia2_fAqafzAhUHwosBHelaDHAQty4IVg&usg=AOvVaw2H4VXSSwXCIln2wen6Jp-M',\n",
       "  '/url?q=https://accounts.google.com/ServiceLogin%3Fcontinue%3Dhttps://www.google.com/search%253Fq%253Dyahoo%252Bfinance%252BGME%2526tbm%253Dnws%26hl%3Dvi&sa=U&ved=0ahUKEwia2_fAqafzAhUHwosBHelaDHAQxs8CCFc&usg=AOvVaw3R8uish3wM5ugY09WtYSD2',\n",
       "  'https://www.google.com/preferences?hl=vi&fg=1&sa=X&ved=0ahUKEwia2_fAqafzAhUHwosBHelaDHAQ5fUCCFg',\n",
       "  'https://policies.google.com/privacy?hl=vi&fg=1',\n",
       "  'https://policies.google.com/terms?hl=vi&fg=1'],\n",
       " 'TSLA': ['/?sa=X&ved=0ahUKEwic-JvBqafzAhVRLqYKHUYnAJcQOwgC',\n",
       "  '/?output=search&ie=UTF-8&tbm=nws&sa=X&ved=0ahUKEwic-JvBqafzAhVRLqYKHUYnAJcQPAgE',\n",
       "  '/search?q=yahoo+finance+TSLA&tbm=nws&ie=UTF-8&gbv=1&sei=fAFWYZzKAtHcmAXGzoC4CQ',\n",
       "  '/search?q=yahoo+finance+TSLA&ie=UTF-8&source=lnms&sa=X&ved=0ahUKEwic-JvBqafzAhVRLqYKHUYnAJcQ_AUIBygA',\n",
       "  '/search?q=yahoo+finance+TSLA&ie=UTF-8&tbm=vid&source=lnms&sa=X&ved=0ahUKEwic-JvBqafzAhVRLqYKHUYnAJcQ_AUICSgC',\n",
       "  '/search?q=yahoo+finance+TSLA&ie=UTF-8&tbm=shop&source=lnms&sa=X&ved=0ahUKEwic-JvBqafzAhVRLqYKHUYnAJcQ_AUICigD',\n",
       "  '/search?q=yahoo+finance+TSLA&ie=UTF-8&tbm=isch&source=lnms&sa=X&ved=0ahUKEwic-JvBqafzAhVRLqYKHUYnAJcQ_AUICygE',\n",
       "  '/search?q=yahoo+finance+TSLA&ie=UTF-8&tbm=bks&source=lnms&sa=X&ved=0ahUKEwic-JvBqafzAhVRLqYKHUYnAJcQ_AUIDCgF',\n",
       "  '/advanced_search',\n",
       "  '/search?q=yahoo+finance+TSLA&ie=UTF-8&tbm=nws&source=lnt&tbs=lr:lang_1vi&lr=lang_vi&sa=X&ved=0ahUKEwic-JvBqafzAhVRLqYKHUYnAJcQpwUIDg',\n",
       "  '/search?q=yahoo+finance+TSLA&ie=UTF-8&tbm=nws&source=lnt&tbs=qdr:h&sa=X&ved=0ahUKEwic-JvBqafzAhVRLqYKHUYnAJcQpwUIEA',\n",
       "  '/search?q=yahoo+finance+TSLA&ie=UTF-8&tbm=nws&source=lnt&tbs=qdr:d&sa=X&ved=0ahUKEwic-JvBqafzAhVRLqYKHUYnAJcQpwUIEQ',\n",
       "  '/search?q=yahoo+finance+TSLA&ie=UTF-8&tbm=nws&source=lnt&tbs=qdr:w&sa=X&ved=0ahUKEwic-JvBqafzAhVRLqYKHUYnAJcQpwUIEg',\n",
       "  '/search?q=yahoo+finance+TSLA&ie=UTF-8&tbm=nws&source=lnt&tbs=qdr:m&sa=X&ved=0ahUKEwic-JvBqafzAhVRLqYKHUYnAJcQpwUIEw',\n",
       "  '/search?q=yahoo+finance+TSLA&ie=UTF-8&tbm=nws&source=lnt&tbs=qdr:y&sa=X&ved=0ahUKEwic-JvBqafzAhVRLqYKHUYnAJcQpwUIFA',\n",
       "  '/search?q=yahoo+finance+TSLA&ie=UTF-8&tbm=nws&source=lnt&tbs=ar:1&sa=X&ved=0ahUKEwic-JvBqafzAhVRLqYKHUYnAJcQpwUIFQ',\n",
       "  '/search?q=yahoo+finance+TSLA&ie=UTF-8&tbm=nws&source=lnt&tbs=sbd:1&sa=X&ved=0ahUKEwic-JvBqafzAhVRLqYKHUYnAJcQpwUIFw',\n",
       "  '/url?q=https://finance.yahoo.com/news/tesla-loses-china-fraud-case-134417684.html&sa=U&ved=2ahUKEwic-JvBqafzAhVRLqYKHUYnAJcQxfQBegQIBhAB&usg=AOvVaw3yhvuNr8hwrNvwKwleJmLy',\n",
       "  '/url?q=https://finance.yahoo.com/news/tesla-loses-china-fraud-case-134417684.html&sa=U&ved=2ahUKEwic-JvBqafzAhVRLqYKHUYnAJcQ0Y8FegQIBhAC&usg=AOvVaw3RtYoEVcb-4nk9oKl27-cy',\n",
       "  '/url?q=https://finance.yahoo.com/news/hedge-funds-aren-t-crazy-131412391.html&sa=U&ved=2ahUKEwic-JvBqafzAhVRLqYKHUYnAJcQxfQBegQICRAB&usg=AOvVaw3gZ_Uti5HusDDt8nGyZSYz',\n",
       "  '/url?q=https://finance.yahoo.com/news/hedge-funds-aren-t-crazy-131412391.html&sa=U&ved=2ahUKEwic-JvBqafzAhVRLqYKHUYnAJcQ0Y8FegQICRAC&usg=AOvVaw03DLNI0fENCy6VdCDV_b4V',\n",
       "  '/url?q=https://finance.yahoo.com/news/cathie-wood-sells-270-million-110334731.html&sa=U&ved=2ahUKEwic-JvBqafzAhVRLqYKHUYnAJcQxfQBegQICBAB&usg=AOvVaw3AxQvUOqV9et0k-V1PEcYQ',\n",
       "  '/url?q=https://finance.yahoo.com/news/cathie-wood-sells-270-million-110334731.html&sa=U&ved=2ahUKEwic-JvBqafzAhVRLqYKHUYnAJcQ0Y8FegQICBAC&usg=AOvVaw1QJ-6XOvCqyhBPOvT5fWjv',\n",
       "  '/url?q=https://finance.yahoo.com/news/why-10-stocks-move-wednesday-165500409.html&sa=U&ved=2ahUKEwic-JvBqafzAhVRLqYKHUYnAJcQxfQBegQIBxAB&usg=AOvVaw0kHijjNKIUPY7CgA0UI96I',\n",
       "  '/url?q=https://finance.yahoo.com/news/why-10-stocks-move-wednesday-165500409.html&sa=U&ved=2ahUKEwic-JvBqafzAhVRLqYKHUYnAJcQ0Y8FegQIBxAC&usg=AOvVaw2fwzz08kRSqmb-2bhdH-Sq',\n",
       "  '/url?q=https://finance.yahoo.com/news/tesla-steady-premarket-likely-nod-081308507.html&sa=U&ved=2ahUKEwic-JvBqafzAhVRLqYKHUYnAJcQxfQBegQIABAB&usg=AOvVaw3FK93OLaeSChQgpTGBUvHs',\n",
       "  '/url?q=https://finance.yahoo.com/news/tesla-steady-premarket-likely-nod-081308507.html&sa=U&ved=2ahUKEwic-JvBqafzAhVRLqYKHUYnAJcQ0Y8FegQIABAC&usg=AOvVaw00RPG1EQBEFJ6R3gdt9klC',\n",
       "  '/url?q=https://finance.yahoo.com/news/institutions-own-fewer-tesla-inc-121320878.html&sa=U&ved=2ahUKEwic-JvBqafzAhVRLqYKHUYnAJcQxfQBegQIBBAB&usg=AOvVaw3Yw1W8wC9PejonUVQgoHon',\n",
       "  '/url?q=https://finance.yahoo.com/news/institutions-own-fewer-tesla-inc-121320878.html&sa=U&ved=2ahUKEwic-JvBqafzAhVRLqYKHUYnAJcQ0Y8FegQIBBAC&usg=AOvVaw2cfntp5B0TpqV-v-uuv9cR',\n",
       "  '/url?q=https://finance.yahoo.com/news/analyzing-tesla-inc-tsla-future-151031009.html&sa=U&ved=2ahUKEwic-JvBqafzAhVRLqYKHUYnAJcQxfQBegQIBRAB&usg=AOvVaw1Zg8HG9R5ZaG9sgCssSwUJ',\n",
       "  '/url?q=https://finance.yahoo.com/news/analyzing-tesla-inc-tsla-future-151031009.html&sa=U&ved=2ahUKEwic-JvBqafzAhVRLqYKHUYnAJcQ0Y8FegQIBRAC&usg=AOvVaw0cRFYTbZ-HANoIwum1Bj4E',\n",
       "  '/url?q=https://finance.yahoo.com/news/why-tesla-nasdaq-tsla-one-090300212.html&sa=U&ved=2ahUKEwic-JvBqafzAhVRLqYKHUYnAJcQxfQBegQIAhAB&usg=AOvVaw3IR9jB3QuxMcdBMfk2bqX2',\n",
       "  '/url?q=https://finance.yahoo.com/news/why-tesla-nasdaq-tsla-one-090300212.html&sa=U&ved=2ahUKEwic-JvBqafzAhVRLqYKHUYnAJcQ0Y8FegQIAhAC&usg=AOvVaw11hp5ri6ietnR5qJpfU0y3',\n",
       "  '/url?q=https://finance.yahoo.com/news/why-10-tech-stocks-moved-173615542.html&sa=U&ved=2ahUKEwic-JvBqafzAhVRLqYKHUYnAJcQxfQBegQIARAB&usg=AOvVaw18M1b0ruNWIa97KxVGsul7',\n",
       "  '/url?q=https://finance.yahoo.com/news/why-10-tech-stocks-moved-173615542.html&sa=U&ved=2ahUKEwic-JvBqafzAhVRLqYKHUYnAJcQ0Y8FegQIARAC&usg=AOvVaw0g5gaWdygja6EOLX8Hk-Db',\n",
       "  '/url?q=https://finance.yahoo.com/news/tesla-reports-q3-deliveries-week-152058539.html&sa=U&ved=2ahUKEwic-JvBqafzAhVRLqYKHUYnAJcQxfQBegQIAxAB&usg=AOvVaw0opWdoA64hStIV_q_-XGlz',\n",
       "  '/url?q=https://finance.yahoo.com/news/tesla-reports-q3-deliveries-week-152058539.html&sa=U&ved=2ahUKEwic-JvBqafzAhVRLqYKHUYnAJcQ0Y8FegQIAxAC&usg=AOvVaw2wKfS3WcLZV6xzK19wOS9k',\n",
       "  '/search?q=yahoo+finance+TSLA&ie=UTF-8&tbm=nws&ei=fAFWYZzKAtHcmAXGzoC4CQ&start=10&sa=N',\n",
       "  '/url?q=https://support.google.com/websearch%3Fp%3Dws_settings_location%26hl%3Dvi&sa=U&ved=0ahUKEwic-JvBqafzAhVRLqYKHUYnAJcQty4IVg&usg=AOvVaw3_MNQzTiLabdN0yhb1qVg9',\n",
       "  '/url?q=https://accounts.google.com/ServiceLogin%3Fcontinue%3Dhttps://www.google.com/search%253Fq%253Dyahoo%252Bfinance%252BTSLA%2526tbm%253Dnws%26hl%3Dvi&sa=U&ved=0ahUKEwic-JvBqafzAhVRLqYKHUYnAJcQxs8CCFc&usg=AOvVaw0sxcRTeOEdLtgxnY5JnVPX',\n",
       "  'https://www.google.com/preferences?hl=vi&fg=1&sa=X&ved=0ahUKEwic-JvBqafzAhVRLqYKHUYnAJcQ5fUCCFg',\n",
       "  'https://policies.google.com/privacy?hl=vi&fg=1',\n",
       "  'https://policies.google.com/terms?hl=vi&fg=1'],\n",
       " 'BTC': ['/?sa=X&ved=0ahUKEwjC6L7BqafzAhUsIqYKHSmxBo0QOwgC',\n",
       "  '/?output=search&ie=UTF-8&tbm=nws&sa=X&ved=0ahUKEwjC6L7BqafzAhUsIqYKHSmxBo0QPAgE',\n",
       "  '/search?q=yahoo+finance+BTC&tbm=nws&ie=UTF-8&gbv=1&sei=fAFWYcK6JazEmAWp4proCA',\n",
       "  '/search?q=yahoo+finance+BTC&ie=UTF-8&source=lnms&sa=X&ved=0ahUKEwjC6L7BqafzAhUsIqYKHSmxBo0Q_AUIBygA',\n",
       "  '/search?q=yahoo+finance+BTC&ie=UTF-8&tbm=vid&source=lnms&sa=X&ved=0ahUKEwjC6L7BqafzAhUsIqYKHSmxBo0Q_AUICSgC',\n",
       "  '/search?q=yahoo+finance+BTC&ie=UTF-8&tbm=isch&source=lnms&sa=X&ved=0ahUKEwjC6L7BqafzAhUsIqYKHSmxBo0Q_AUICigD',\n",
       "  '/search?q=yahoo+finance+BTC&ie=UTF-8&tbm=shop&source=lnms&sa=X&ved=0ahUKEwjC6L7BqafzAhUsIqYKHSmxBo0Q_AUICygE',\n",
       "  '/search?q=yahoo+finance+BTC&ie=UTF-8&tbm=bks&source=lnms&sa=X&ved=0ahUKEwjC6L7BqafzAhUsIqYKHSmxBo0Q_AUIDCgF',\n",
       "  '/advanced_search',\n",
       "  '/search?q=yahoo+finance+BTC&ie=UTF-8&tbm=nws&source=lnt&tbs=lr:lang_1vi&lr=lang_vi&sa=X&ved=0ahUKEwjC6L7BqafzAhUsIqYKHSmxBo0QpwUIDg',\n",
       "  '/search?q=yahoo+finance+BTC&ie=UTF-8&tbm=nws&source=lnt&tbs=qdr:h&sa=X&ved=0ahUKEwjC6L7BqafzAhUsIqYKHSmxBo0QpwUIEA',\n",
       "  '/search?q=yahoo+finance+BTC&ie=UTF-8&tbm=nws&source=lnt&tbs=qdr:d&sa=X&ved=0ahUKEwjC6L7BqafzAhUsIqYKHSmxBo0QpwUIEQ',\n",
       "  '/search?q=yahoo+finance+BTC&ie=UTF-8&tbm=nws&source=lnt&tbs=qdr:w&sa=X&ved=0ahUKEwjC6L7BqafzAhUsIqYKHSmxBo0QpwUIEg',\n",
       "  '/search?q=yahoo+finance+BTC&ie=UTF-8&tbm=nws&source=lnt&tbs=qdr:m&sa=X&ved=0ahUKEwjC6L7BqafzAhUsIqYKHSmxBo0QpwUIEw',\n",
       "  '/search?q=yahoo+finance+BTC&ie=UTF-8&tbm=nws&source=lnt&tbs=qdr:y&sa=X&ved=0ahUKEwjC6L7BqafzAhUsIqYKHSmxBo0QpwUIFA',\n",
       "  '/search?q=yahoo+finance+BTC&ie=UTF-8&tbm=nws&source=lnt&tbs=ar:1&sa=X&ved=0ahUKEwjC6L7BqafzAhUsIqYKHSmxBo0QpwUIFQ',\n",
       "  '/search?q=yahoo+finance+BTC&ie=UTF-8&tbm=nws&source=lnt&tbs=sbd:1&sa=X&ved=0ahUKEwjC6L7BqafzAhUsIqYKHSmxBo0QpwUIFw',\n",
       "  '/url?q=https://finance.yahoo.com/news/correction-source-canada-computational-unlimited-014900346.html&sa=U&ved=2ahUKEwjC6L7BqafzAhUsIqYKHSmxBo0QxfQBegQIBBAB&usg=AOvVaw2mSYAe0dK9g_2diVInoVrF',\n",
       "  '/url?q=https://finance.yahoo.com/news/correction-source-canada-computational-unlimited-014900346.html&sa=U&ved=2ahUKEwjC6L7BqafzAhUsIqYKHSmxBo0Q0Y8FegQIBBAC&usg=AOvVaw239pbeyd4SwCWgNIODa92K',\n",
       "  '/url?q=https://finance.yahoo.com/news/billionaire-venture-capitalist-believes-gold-002834415.html&sa=U&ved=2ahUKEwjC6L7BqafzAhUsIqYKHSmxBo0QxfQBegQIBxAB&usg=AOvVaw1z50df9zcGtDkLEV-N5f0A',\n",
       "  '/url?q=https://finance.yahoo.com/news/billionaire-venture-capitalist-believes-gold-002834415.html&sa=U&ved=2ahUKEwjC6L7BqafzAhUsIqYKHSmxBo0Q0Y8FegQIBxAC&usg=AOvVaw1B30OU2xYSApn8K2NEsHn5',\n",
       "  '/url?q=https://finance.yahoo.com/news/bitcoin-method-moving-country-forward-150000124.html&sa=U&ved=2ahUKEwjC6L7BqafzAhUsIqYKHSmxBo0QxfQBegQICBAB&usg=AOvVaw3MCUkfWIPMi4oFYEXvI27g',\n",
       "  '/url?q=https://finance.yahoo.com/news/bitcoin-method-moving-country-forward-150000124.html&sa=U&ved=2ahUKEwjC6L7BqafzAhUsIqYKHSmxBo0Q0Y8FegQICBAC&usg=AOvVaw2Nauke-Gep-HpNdAaetAtp',\n",
       "  '/url?q=https://finance.yahoo.com/news/important-levels-bitcoin-ethereum-mike-143814130.html&sa=U&ved=2ahUKEwjC6L7BqafzAhUsIqYKHSmxBo0QxfQBegQICRAB&usg=AOvVaw3LgD2zLeEZg8NpHFieCKoi',\n",
       "  '/url?q=https://finance.yahoo.com/news/important-levels-bitcoin-ethereum-mike-143814130.html&sa=U&ved=2ahUKEwjC6L7BqafzAhUsIqYKHSmxBo0Q0Y8FegQICRAC&usg=AOvVaw2SlvAH-9jEngS7axkMGRik',\n",
       "  '/url?q=https://ca.finance.yahoo.com/news/first-etf-combining-bitcoin-and-ethereum-launches-in-canada-145811246.html&sa=U&ved=2ahUKEwjC6L7BqafzAhUsIqYKHSmxBo0QxfQBegQIAhAB&usg=AOvVaw1E6LGFc7fjCjcHoCrQLP72',\n",
       "  '/url?q=https://ca.finance.yahoo.com/news/first-etf-combining-bitcoin-and-ethereum-launches-in-canada-145811246.html&sa=U&ved=2ahUKEwjC6L7BqafzAhUsIqYKHSmxBo0Q0Y8FegQIAhAC&usg=AOvVaw3agRUsA_IieOQI2JyayqZ6',\n",
       "  '/url?q=https://finance.yahoo.com/news/crypto-investors-should-be-thanking-china-for-this-says-anthony-pompliano-150308373.html&sa=U&ved=2ahUKEwjC6L7BqafzAhUsIqYKHSmxBo0QxfQBegQIARAB&usg=AOvVaw2qvoeXzOL25e1ReMVLzQG4',\n",
       "  '/url?q=https://finance.yahoo.com/news/crypto-investors-should-be-thanking-china-for-this-says-anthony-pompliano-150308373.html&sa=U&ved=2ahUKEwjC6L7BqafzAhUsIqYKHSmxBo0Q0Y8FegQIARAC&usg=AOvVaw1Kj0xW6_Ij2C2LE9CmvVsl',\n",
       "  '/url?q=https://finance.yahoo.com/news/buying-bitcoins-atms-kraken-says-124255490.html&sa=U&ved=2ahUKEwjC6L7BqafzAhUsIqYKHSmxBo0QxfQBegQIBRAB&usg=AOvVaw0c83-wo1dPc_4EgAUxHuPU',\n",
       "  '/url?q=https://finance.yahoo.com/news/buying-bitcoins-atms-kraken-says-124255490.html&sa=U&ved=2ahUKEwjC6L7BqafzAhUsIqYKHSmxBo0Q0Y8FegQIBRAC&usg=AOvVaw0ptuj4us_-mK_M2WeQwDac',\n",
       "  '/url?q=https://finance.yahoo.com/news/bitcoin-price-prediction-bears-eye-123847250.html&sa=U&ved=2ahUKEwjC6L7BqafzAhUsIqYKHSmxBo0QxfQBegQIAxAB&usg=AOvVaw3Kn0YIHKOWaDlg85DDWEuy',\n",
       "  '/url?q=https://finance.yahoo.com/news/bitcoin-price-prediction-bears-eye-123847250.html&sa=U&ved=2ahUKEwjC6L7BqafzAhUsIqYKHSmxBo0Q0Y8FegQIAxAC&usg=AOvVaw2YL2mjv_ZiDFYry-3B2S1d',\n",
       "  '/url?q=https://finance.yahoo.com/news/bitcoin-latinum-ltnm-announces-upcoming-152200564.html&sa=U&ved=2ahUKEwjC6L7BqafzAhUsIqYKHSmxBo0QxfQBegQIBhAB&usg=AOvVaw39ywm-qPa9l5-G8sN-h6-i',\n",
       "  '/url?q=https://finance.yahoo.com/news/bitcoin-latinum-ltnm-announces-upcoming-152200564.html&sa=U&ved=2ahUKEwjC6L7BqafzAhUsIqYKHSmxBo0Q0Y8FegQIBhAC&usg=AOvVaw34yYyI19OOgeQwiK7t54J-',\n",
       "  '/url?q=https://finance.yahoo.com/news/why-bitcoin-related-ethereum-related-165348779.html&sa=U&ved=2ahUKEwjC6L7BqafzAhUsIqYKHSmxBo0QxfQBegQIABAB&usg=AOvVaw3H6KvtS9woW81PjJXBsvZ-',\n",
       "  '/url?q=https://finance.yahoo.com/news/why-bitcoin-related-ethereum-related-165348779.html&sa=U&ved=2ahUKEwjC6L7BqafzAhUsIqYKHSmxBo0Q0Y8FegQIABAC&usg=AOvVaw15j3Aqwodz0WVfibqiVWcw',\n",
       "  '/search?q=yahoo+finance+BTC&ie=UTF-8&tbm=nws&ei=fAFWYcK6JazEmAWp4proCA&start=10&sa=N',\n",
       "  '/url?q=https://support.google.com/websearch%3Fp%3Dws_settings_location%26hl%3Dvi&sa=U&ved=0ahUKEwjC6L7BqafzAhUsIqYKHSmxBo0Qty4IVg&usg=AOvVaw0yvDwVGl0RvUdV05rhud1M',\n",
       "  '/url?q=https://accounts.google.com/ServiceLogin%3Fcontinue%3Dhttps://www.google.com/search%253Fq%253Dyahoo%252Bfinance%252BBTC%2526tbm%253Dnws%26hl%3Dvi&sa=U&ved=0ahUKEwjC6L7BqafzAhUsIqYKHSmxBo0Qxs8CCFc&usg=AOvVaw1rFxkjUAeNNf_lIRTrgk2l',\n",
       "  'https://www.google.com/preferences?hl=vi&fg=1&sa=X&ved=0ahUKEwjC6L7BqafzAhUsIqYKHSmxBo0Q5fUCCFg',\n",
       "  'https://policies.google.com/privacy?hl=vi&fg=1',\n",
       "  'https://policies.google.com/terms?hl=vi&fg=1']}"
      ]
     },
     "execution_count": 48,
     "metadata": {},
     "output_type": "execute_result"
    }
   ],
   "source": [
    "raw_urls = {ticker:search_for_stock_news_urls(ticker) for ticker in monitored_tickers}\n",
    "raw_urls"
   ]
  },
  {
   "cell_type": "code",
   "execution_count": 49,
   "id": "346a0d06",
   "metadata": {},
   "outputs": [
    {
     "data": {
      "text/plain": [
       "['/?sa=X&ved=0ahUKEwjC6L7BqafzAhUsIqYKHSmxBo0QOwgC',\n",
       " '/?output=search&ie=UTF-8&tbm=nws&sa=X&ved=0ahUKEwjC6L7BqafzAhUsIqYKHSmxBo0QPAgE',\n",
       " '/search?q=yahoo+finance+BTC&tbm=nws&ie=UTF-8&gbv=1&sei=fAFWYcK6JazEmAWp4proCA',\n",
       " '/search?q=yahoo+finance+BTC&ie=UTF-8&source=lnms&sa=X&ved=0ahUKEwjC6L7BqafzAhUsIqYKHSmxBo0Q_AUIBygA',\n",
       " '/search?q=yahoo+finance+BTC&ie=UTF-8&tbm=vid&source=lnms&sa=X&ved=0ahUKEwjC6L7BqafzAhUsIqYKHSmxBo0Q_AUICSgC',\n",
       " '/search?q=yahoo+finance+BTC&ie=UTF-8&tbm=isch&source=lnms&sa=X&ved=0ahUKEwjC6L7BqafzAhUsIqYKHSmxBo0Q_AUICigD',\n",
       " '/search?q=yahoo+finance+BTC&ie=UTF-8&tbm=shop&source=lnms&sa=X&ved=0ahUKEwjC6L7BqafzAhUsIqYKHSmxBo0Q_AUICygE',\n",
       " '/search?q=yahoo+finance+BTC&ie=UTF-8&tbm=bks&source=lnms&sa=X&ved=0ahUKEwjC6L7BqafzAhUsIqYKHSmxBo0Q_AUIDCgF',\n",
       " '/advanced_search',\n",
       " '/search?q=yahoo+finance+BTC&ie=UTF-8&tbm=nws&source=lnt&tbs=lr:lang_1vi&lr=lang_vi&sa=X&ved=0ahUKEwjC6L7BqafzAhUsIqYKHSmxBo0QpwUIDg',\n",
       " '/search?q=yahoo+finance+BTC&ie=UTF-8&tbm=nws&source=lnt&tbs=qdr:h&sa=X&ved=0ahUKEwjC6L7BqafzAhUsIqYKHSmxBo0QpwUIEA',\n",
       " '/search?q=yahoo+finance+BTC&ie=UTF-8&tbm=nws&source=lnt&tbs=qdr:d&sa=X&ved=0ahUKEwjC6L7BqafzAhUsIqYKHSmxBo0QpwUIEQ',\n",
       " '/search?q=yahoo+finance+BTC&ie=UTF-8&tbm=nws&source=lnt&tbs=qdr:w&sa=X&ved=0ahUKEwjC6L7BqafzAhUsIqYKHSmxBo0QpwUIEg',\n",
       " '/search?q=yahoo+finance+BTC&ie=UTF-8&tbm=nws&source=lnt&tbs=qdr:m&sa=X&ved=0ahUKEwjC6L7BqafzAhUsIqYKHSmxBo0QpwUIEw',\n",
       " '/search?q=yahoo+finance+BTC&ie=UTF-8&tbm=nws&source=lnt&tbs=qdr:y&sa=X&ved=0ahUKEwjC6L7BqafzAhUsIqYKHSmxBo0QpwUIFA',\n",
       " '/search?q=yahoo+finance+BTC&ie=UTF-8&tbm=nws&source=lnt&tbs=ar:1&sa=X&ved=0ahUKEwjC6L7BqafzAhUsIqYKHSmxBo0QpwUIFQ',\n",
       " '/search?q=yahoo+finance+BTC&ie=UTF-8&tbm=nws&source=lnt&tbs=sbd:1&sa=X&ved=0ahUKEwjC6L7BqafzAhUsIqYKHSmxBo0QpwUIFw',\n",
       " '/url?q=https://finance.yahoo.com/news/correction-source-canada-computational-unlimited-014900346.html&sa=U&ved=2ahUKEwjC6L7BqafzAhUsIqYKHSmxBo0QxfQBegQIBBAB&usg=AOvVaw2mSYAe0dK9g_2diVInoVrF',\n",
       " '/url?q=https://finance.yahoo.com/news/correction-source-canada-computational-unlimited-014900346.html&sa=U&ved=2ahUKEwjC6L7BqafzAhUsIqYKHSmxBo0Q0Y8FegQIBBAC&usg=AOvVaw239pbeyd4SwCWgNIODa92K',\n",
       " '/url?q=https://finance.yahoo.com/news/billionaire-venture-capitalist-believes-gold-002834415.html&sa=U&ved=2ahUKEwjC6L7BqafzAhUsIqYKHSmxBo0QxfQBegQIBxAB&usg=AOvVaw1z50df9zcGtDkLEV-N5f0A',\n",
       " '/url?q=https://finance.yahoo.com/news/billionaire-venture-capitalist-believes-gold-002834415.html&sa=U&ved=2ahUKEwjC6L7BqafzAhUsIqYKHSmxBo0Q0Y8FegQIBxAC&usg=AOvVaw1B30OU2xYSApn8K2NEsHn5',\n",
       " '/url?q=https://finance.yahoo.com/news/bitcoin-method-moving-country-forward-150000124.html&sa=U&ved=2ahUKEwjC6L7BqafzAhUsIqYKHSmxBo0QxfQBegQICBAB&usg=AOvVaw3MCUkfWIPMi4oFYEXvI27g',\n",
       " '/url?q=https://finance.yahoo.com/news/bitcoin-method-moving-country-forward-150000124.html&sa=U&ved=2ahUKEwjC6L7BqafzAhUsIqYKHSmxBo0Q0Y8FegQICBAC&usg=AOvVaw2Nauke-Gep-HpNdAaetAtp',\n",
       " '/url?q=https://finance.yahoo.com/news/important-levels-bitcoin-ethereum-mike-143814130.html&sa=U&ved=2ahUKEwjC6L7BqafzAhUsIqYKHSmxBo0QxfQBegQICRAB&usg=AOvVaw3LgD2zLeEZg8NpHFieCKoi',\n",
       " '/url?q=https://finance.yahoo.com/news/important-levels-bitcoin-ethereum-mike-143814130.html&sa=U&ved=2ahUKEwjC6L7BqafzAhUsIqYKHSmxBo0Q0Y8FegQICRAC&usg=AOvVaw2SlvAH-9jEngS7axkMGRik',\n",
       " '/url?q=https://ca.finance.yahoo.com/news/first-etf-combining-bitcoin-and-ethereum-launches-in-canada-145811246.html&sa=U&ved=2ahUKEwjC6L7BqafzAhUsIqYKHSmxBo0QxfQBegQIAhAB&usg=AOvVaw1E6LGFc7fjCjcHoCrQLP72',\n",
       " '/url?q=https://ca.finance.yahoo.com/news/first-etf-combining-bitcoin-and-ethereum-launches-in-canada-145811246.html&sa=U&ved=2ahUKEwjC6L7BqafzAhUsIqYKHSmxBo0Q0Y8FegQIAhAC&usg=AOvVaw3agRUsA_IieOQI2JyayqZ6',\n",
       " '/url?q=https://finance.yahoo.com/news/crypto-investors-should-be-thanking-china-for-this-says-anthony-pompliano-150308373.html&sa=U&ved=2ahUKEwjC6L7BqafzAhUsIqYKHSmxBo0QxfQBegQIARAB&usg=AOvVaw2qvoeXzOL25e1ReMVLzQG4',\n",
       " '/url?q=https://finance.yahoo.com/news/crypto-investors-should-be-thanking-china-for-this-says-anthony-pompliano-150308373.html&sa=U&ved=2ahUKEwjC6L7BqafzAhUsIqYKHSmxBo0Q0Y8FegQIARAC&usg=AOvVaw1Kj0xW6_Ij2C2LE9CmvVsl',\n",
       " '/url?q=https://finance.yahoo.com/news/buying-bitcoins-atms-kraken-says-124255490.html&sa=U&ved=2ahUKEwjC6L7BqafzAhUsIqYKHSmxBo0QxfQBegQIBRAB&usg=AOvVaw0c83-wo1dPc_4EgAUxHuPU',\n",
       " '/url?q=https://finance.yahoo.com/news/buying-bitcoins-atms-kraken-says-124255490.html&sa=U&ved=2ahUKEwjC6L7BqafzAhUsIqYKHSmxBo0Q0Y8FegQIBRAC&usg=AOvVaw0ptuj4us_-mK_M2WeQwDac',\n",
       " '/url?q=https://finance.yahoo.com/news/bitcoin-price-prediction-bears-eye-123847250.html&sa=U&ved=2ahUKEwjC6L7BqafzAhUsIqYKHSmxBo0QxfQBegQIAxAB&usg=AOvVaw3Kn0YIHKOWaDlg85DDWEuy',\n",
       " '/url?q=https://finance.yahoo.com/news/bitcoin-price-prediction-bears-eye-123847250.html&sa=U&ved=2ahUKEwjC6L7BqafzAhUsIqYKHSmxBo0Q0Y8FegQIAxAC&usg=AOvVaw2YL2mjv_ZiDFYry-3B2S1d',\n",
       " '/url?q=https://finance.yahoo.com/news/bitcoin-latinum-ltnm-announces-upcoming-152200564.html&sa=U&ved=2ahUKEwjC6L7BqafzAhUsIqYKHSmxBo0QxfQBegQIBhAB&usg=AOvVaw39ywm-qPa9l5-G8sN-h6-i',\n",
       " '/url?q=https://finance.yahoo.com/news/bitcoin-latinum-ltnm-announces-upcoming-152200564.html&sa=U&ved=2ahUKEwjC6L7BqafzAhUsIqYKHSmxBo0Q0Y8FegQIBhAC&usg=AOvVaw34yYyI19OOgeQwiK7t54J-',\n",
       " '/url?q=https://finance.yahoo.com/news/why-bitcoin-related-ethereum-related-165348779.html&sa=U&ved=2ahUKEwjC6L7BqafzAhUsIqYKHSmxBo0QxfQBegQIABAB&usg=AOvVaw3H6KvtS9woW81PjJXBsvZ-',\n",
       " '/url?q=https://finance.yahoo.com/news/why-bitcoin-related-ethereum-related-165348779.html&sa=U&ved=2ahUKEwjC6L7BqafzAhUsIqYKHSmxBo0Q0Y8FegQIABAC&usg=AOvVaw15j3Aqwodz0WVfibqiVWcw',\n",
       " '/search?q=yahoo+finance+BTC&ie=UTF-8&tbm=nws&ei=fAFWYcK6JazEmAWp4proCA&start=10&sa=N',\n",
       " '/url?q=https://support.google.com/websearch%3Fp%3Dws_settings_location%26hl%3Dvi&sa=U&ved=0ahUKEwjC6L7BqafzAhUsIqYKHSmxBo0Qty4IVg&usg=AOvVaw0yvDwVGl0RvUdV05rhud1M',\n",
       " '/url?q=https://accounts.google.com/ServiceLogin%3Fcontinue%3Dhttps://www.google.com/search%253Fq%253Dyahoo%252Bfinance%252BBTC%2526tbm%253Dnws%26hl%3Dvi&sa=U&ved=0ahUKEwjC6L7BqafzAhUsIqYKHSmxBo0Qxs8CCFc&usg=AOvVaw1rFxkjUAeNNf_lIRTrgk2l',\n",
       " 'https://www.google.com/preferences?hl=vi&fg=1&sa=X&ved=0ahUKEwjC6L7BqafzAhUsIqYKHSmxBo0Q5fUCCFg',\n",
       " 'https://policies.google.com/privacy?hl=vi&fg=1',\n",
       " 'https://policies.google.com/terms?hl=vi&fg=1']"
      ]
     },
     "execution_count": 49,
     "metadata": {},
     "output_type": "execute_result"
    }
   ],
   "source": [
    "raw_urls['BTC']"
   ]
  },
  {
   "cell_type": "markdown",
   "id": "850b731d",
   "metadata": {},
   "source": [
    "## 3.2. Remove unwanted URLS"
   ]
  },
  {
   "cell_type": "code",
   "execution_count": 50,
   "id": "50663edd",
   "metadata": {},
   "outputs": [],
   "source": [
    "import re"
   ]
  },
  {
   "cell_type": "code",
   "execution_count": 51,
   "id": "95329ae1",
   "metadata": {},
   "outputs": [],
   "source": [
    "exclude_list = ['maps', 'policies', 'preferences', 'accounts', 'support']"
   ]
  },
  {
   "cell_type": "code",
   "execution_count": 52,
   "id": "5cf6cbef",
   "metadata": {},
   "outputs": [],
   "source": [
    "def strip_unwanted_urls(urls, exclude_list):\n",
    "    val = []\n",
    "    for url in urls: \n",
    "        if 'https://' in url and not any(exclude_word in url for exclude_word in exclude_list):\n",
    "            res = re.findall(r'(https?://\\S+)', url)[0].split('&')[0]\n",
    "            val.append(res)\n",
    "    return list(set(val))"
   ]
  },
  {
   "cell_type": "code",
   "execution_count": 53,
   "id": "bf4bed8b",
   "metadata": {},
   "outputs": [
    {
     "data": {
      "text/plain": [
       "{'GME': ['https://finance.yahoo.com/news/game-stop-stock-is-enduring-an-awful-september-180120497.html',\n",
       "  'https://finance.yahoo.com/news/significant-role-of-retail-investing-here-to-stay-suzanne-shank-164155648.html',\n",
       "  'https://finance.yahoo.com/news/15-best-short-squeeze-stocks-140610450.html',\n",
       "  'https://finance.yahoo.com/news/why-rf-capital-management-continues-164430403.html',\n",
       "  'https://finance.yahoo.com/news/gamestop-gme-hire-500-staff-135001043.html',\n",
       "  'https://finance.yahoo.com/news/gamestop-nyse-gme-earnings-120000520.html',\n",
       "  'https://ca.finance.yahoo.com/news/amc-gme-stocks-citadel-drama-123112651.html',\n",
       "  'https://finance.yahoo.com/news/gamestop-reports-financial-results-q2-200500919.html',\n",
       "  'https://finance.yahoo.com/news/disheartening-gamestop-gme-earnings-r-212009089.html',\n",
       "  'https://finance.yahoo.com/news/jim-simons-quant-hedge-fund-171007244.html'],\n",
       " 'TSLA': ['https://finance.yahoo.com/news/tesla-loses-china-fraud-case-134417684.html',\n",
       "  'https://finance.yahoo.com/news/why-tesla-nasdaq-tsla-one-090300212.html',\n",
       "  'https://finance.yahoo.com/news/why-10-stocks-move-wednesday-165500409.html',\n",
       "  'https://finance.yahoo.com/news/institutions-own-fewer-tesla-inc-121320878.html',\n",
       "  'https://finance.yahoo.com/news/cathie-wood-sells-270-million-110334731.html',\n",
       "  'https://finance.yahoo.com/news/why-10-tech-stocks-moved-173615542.html',\n",
       "  'https://finance.yahoo.com/news/tesla-steady-premarket-likely-nod-081308507.html',\n",
       "  'https://finance.yahoo.com/news/tesla-reports-q3-deliveries-week-152058539.html',\n",
       "  'https://finance.yahoo.com/news/hedge-funds-aren-t-crazy-131412391.html',\n",
       "  'https://finance.yahoo.com/news/analyzing-tesla-inc-tsla-future-151031009.html'],\n",
       " 'BTC': ['https://finance.yahoo.com/news/buying-bitcoins-atms-kraken-says-124255490.html',\n",
       "  'https://finance.yahoo.com/news/crypto-investors-should-be-thanking-china-for-this-says-anthony-pompliano-150308373.html',\n",
       "  'https://finance.yahoo.com/news/bitcoin-method-moving-country-forward-150000124.html',\n",
       "  'https://finance.yahoo.com/news/important-levels-bitcoin-ethereum-mike-143814130.html',\n",
       "  'https://ca.finance.yahoo.com/news/first-etf-combining-bitcoin-and-ethereum-launches-in-canada-145811246.html',\n",
       "  'https://finance.yahoo.com/news/bitcoin-latinum-ltnm-announces-upcoming-152200564.html',\n",
       "  'https://finance.yahoo.com/news/why-bitcoin-related-ethereum-related-165348779.html',\n",
       "  'https://finance.yahoo.com/news/billionaire-venture-capitalist-believes-gold-002834415.html',\n",
       "  'https://finance.yahoo.com/news/correction-source-canada-computational-unlimited-014900346.html',\n",
       "  'https://finance.yahoo.com/news/bitcoin-price-prediction-bears-eye-123847250.html']}"
      ]
     },
     "execution_count": 53,
     "metadata": {},
     "output_type": "execute_result"
    }
   ],
   "source": [
    "cleaned_urls = {ticker:strip_unwanted_urls(raw_urls[ticker], exclude_list) for ticker in monitored_tickers}\n",
    "cleaned_urls"
   ]
  },
  {
   "cell_type": "markdown",
   "id": "0c48caac",
   "metadata": {},
   "source": [
    "## 3.3. Search and Scrape Cleaned URLS"
   ]
  },
  {
   "cell_type": "code",
   "execution_count": 54,
   "id": "610706e6",
   "metadata": {},
   "outputs": [],
   "source": [
    "def scrape_and_process(URLs):\n",
    "    ARTICLES = []\n",
    "    for url in URLs: \n",
    "        r = requests.get(url)\n",
    "        soup = BeautifulSoup(r.text, 'html.parser')\n",
    "        paragraphs = soup.find_all('p')\n",
    "        text = [paragraph.text for paragraph in paragraphs]\n",
    "        words = ' '.join(text).split(' ')[:350]\n",
    "        ARTICLE = ' '.join(words)\n",
    "        ARTICLES.append(ARTICLE)\n",
    "    return ARTICLES"
   ]
  },
  {
   "cell_type": "code",
   "execution_count": 55,
   "id": "7aede4e5",
   "metadata": {},
   "outputs": [
    {
     "data": {
      "text/plain": [
       "{'GME': [' Not even speculation of a partnership with fellow meme stock trader favorite AMC Entertainment has been enough to arrest the selling pressure in shares of one-time 2021 market darling GameStop (GME).\\xa0 Shares of the gaming retailer turned self-described tech company have dropped 12% so far in September, far worse than the 2% respective drops in the S&P 500 and Nasdaq Composite. GameStop\\'s stock is also among the laggards of the popular meme stock group this month — AMC\\'s stock has gained 8.5% and Clover Health has tacked on nearly 5%. BlackBerry\\'s stock is down 8% on the month.\\xa0 GameStop shares are down 46% since hitting a record high on Jan. 27. The pullback in GameStop stock — at least as far as September goes — coincides with several factors.\\xa0 First, the stock appears to be receiving less love on the WallStreetBets Reddit platform that made it an icon of retail investors to kick off the year.\\xa0 The stock has seen plunging popularity among Redditors since mid-August, according to data analyzed by Yahoo Finance from social media monitoring site Swaggystocks. Meanwhile, internet mentions of GameStop have crashed since mid-August.\\xa0 One could hypothesize the meme trader crowd may be punishing GameStop\\'s new executive chairman and big backer, Ryan Cohen, for a failure to issue a clear turnaround plan. Recent financial results likely haven\\'t helped market sentiment, either.\\xa0 This month, the company posted an adjusted loss per share of 76 cents vs. a Wall Street estimate of 67 cents with revenue of $1.18 billion, compared to $1.12 billion expected. Sales rose 25.6% from a year ago on the back of demand for new gaming consoles from Sony and Microsoft. The company also highlighted increased costs in transforming into a tech company, as one culprit for the steep loss.\\xa0 New GameStop CEO Matt Furlong took no questions on his first earnings call as CEO and shared zero information regarding its business plan. Not exactly ideal for a stock that continues to trade on hope more than any semblance of fundamentals.\\xa0 \"GameStop\\'s [stock] is already trading over two times next year\\'s enterprise value to',\n",
       "  ' High-profile investor and early meme stock bull Michael Burry, known for his depiction in the film \"The Big Short,\" said on Twitter last week that he had received a subpoena from the Securities and Exchange Commission tied to the agency\\'s investigation of GameStop (GME).\\xa0\\xa0 Some recent trading woes have also proven a headwind for the meme stock frenzy. Many of the original meme stocks — including GameStop, AMC Entertainment (AMC), and BlackBerry (BB) — fell in trading on Wednesday.\\xa0 But institutional investors are still taking notice of the rise of retail trading. In a new interview, Suzanne Shank — the president and CEO of investment bank Siebert Williams Shank — said retail investing is \"here to stay,\" even as she cautioned about the herd mentality that can drive such trading. \"As a firm, we don\\'t sell directly to retail,\" says Shank, who spoke to Yahoo Finance on Sept. 16. \"But obviously as a market participant, we see the impact of retail, which has been quite significant.\" \"The question is whether — all of them — they seem to run in packs and move together and pile on, as opposed to making the same measured investment decisions that institutions do,\" adds. \"But there\\'s no doubt that the retail factor is here to stay, and it\\'s going to play a significant role in how stocks move around on a daily basis,\" she says. Off-exchange trading made up 47.2% of total U.S. equity trading volume in January 2021, an increase from 41.5% last year and 37.3% over the same month in 2019, according to an analysis conducted by the trade association SIFMA.\\xa0 In earnings released last month, trading platform Robinhood (HOOD) reported 22.5 million user accounts with money in them, a 130% spike from 9.8 million in the same quarter last year. There were 7.2 million such accounts in March 2020, the company said.\\xa0 But wealthy investors continue to dominate the stock market. The wealthiest 10% of U.S. families own 84% of overall equities and 92% of directly held equities, according to a 2019 Federal Reserve survey analyzed by The New York',\n",
       "  ' In this article, we discuss the 15 best short squeeze stocks to buy now. If you want to skip our detailed analysis of these stocks, go directly to the 5 Best Short Squeeze Stocks To Buy Now. The retail investor frenzy at the stock market and the short squeeze saga involving GameStop Corp. (NYSE: GME) and AMC Entertainment Holdings, Inc. (NYSE: AMC) at the beginning of this year has resulted in a lot of interest in stocks with high short interest. The main battle, between retail investors and hedge funds, has resulted in billions of dollars in losses for hedge funds. Data from S3 Partners, a New York-based market intelligence firm, shows that GameStop short-sellers have lost $7.3 billion so far this year. The losses for AMC short-sellers this year also stand close, clocking in at around $4.5 billion, the market intelligence firm estimates. A short squeeze happens when the share price of an equity rises unexpectedly and short-sellers, who have money riding on the stock to lose value, try to exit their short positions to limit losses. Some of the stocks with high short interest presently include Katapult Holdings, Inc. (NASDAQ:KPLT), Big 5 Sporting Goods Corporation (NASDAQ:BGFV), and Intercept Pharmaceuticals, Inc. (NASDAQ:ICPT), among others.  The interaction hubs of retail investors, like social media platform Reddit, have sparked a lot of interest on Wall Street in recent months as hedge funds track Reddit forums to keep abreast of latest developments around stocks with high short interest. Financial services firm IHS Markit, in a study published earlier this year, revealed that the most-shorted stocks on the market in January this year outperformed the least-shorted ones by a factor of close to 24%. It seems like retail investors are slowly transforming overall market dynamics in their favor.  The entire hedge fund industry is feeling the reverberations of the changing financial landscape. Its reputation has been tarnished in the last decade, during which its hedged returns couldn’t keep up with the unhedged returns of the market indices. On the other hand, Insider Monkey’s research was able to identify in advance',\n",
       "  ' RF Capital Management LLC, an investment management firm, published its second-quarter 2021 investor letter – a copy of which can be downloaded here. A net return of 55.17% was recorded by the fund for the first half of 2021. The fund has gotten off to a strong start this year – especially in the first quarter where it generated a 42.82% return net of all fees. You can take a look at the fund’s top 5 holdings to have an idea about their top bets for 2021. In the Q2 2021 investor letter of RF Capital Management, the fund mentioned GameStop Corp. (NYSE: GME) and discussed its stance on the firm. GameStop Corp. is a Grapevine, Texas-based electronics retail company with a $15.5 billion market capitalization. GME delivered a 977.81% return since the beginning of the year, while its 12-month returns are up by 2,764.03%. The stock closed at $203.40 per share on September 13, 2021. Here is what RF Capital Management has to say about GameStop Corp. in its Q2 2021 investor letter: \"Although the initial trading frenzy has passed, the stock price continues to remain elevated as we write this letter. We don’t profess to understand the mechanics and exact details of what drove GameStop’s historic run. However, we did trade around our position in GME as it happened and took full advantage of the price action. Because GME has been well-covered in the media, we’ll just provide a brief overview of what happened. GameStop’s stock price started the year at $19/share. Then volume started to increase midJanuary, and the stock traded in the $30’s and $40’s. In the last week of January, the meteoric rise of GME’s stock price occurred. GME’s stock reached an all-time high of $483 before crashing back down to the $40’s. Essentially, the stock price rallied 2,442%, crashed (wiping out almost $30 billion in market cap), and rallied again. The prevailing narrative was the battle between retail investors versus institutions and hedge funds. Retail investors were participating in forums and social media sites like WallStreetBets on Reddit and Twitter to exchange ideas.',\n",
       "  ' GameStop Corp. GME has been quite proactive about undertaking efforts to strengthen digital operations. With consumers’ growing inclination toward online shopping, the company has been evolving itself into a strong and digitally advanced player in the gaming industry. Progressing on these lines, the company announced plans to hire nearly 500 employees at its customer service center in Pembroke Pines, FL. Let’s take a closer look at this latest development as well as other efforts undertaken by the company. In its last earnings call, GameStop had informed about entering into a lease for a new customer care center in Pembroke Pines, as it continues to build on customer care operations in the United States. Investment to boost employee strength at this facility is likely to reinforce the company’s U.S.-based customer care operations. This newly-leased service center is expected to be operational by the end of 2021.GameStop has been striving to build upon its digital capabilities, especially since the middle of last year when Ryan Cohen began taking interests in the company. RC Ventures, which is managed by Ryan Cohen, is one of the largest stakeholders of GameStop. Under the leadership of Ryan Cohen, the company has been undertaking radical digital transformation efforts. It has been restructuring its board and formed a Strategic Planning and Capital Allocation committee. Since the formation of this committee, the company has appointed several board executives with significant experience in e-commerce, customer care, technology, UI, UX, operations and supply chain.Expanding fulfillment network and e-commerce services has been a vital part of the company’s transformation efforts. In July, 2021, the company entered into a lease for a 530,000-square feet facility in Reno, NV, which is expected to be in operation this year. Prior to this, the company entered into a lease for a 700,000-square feet facility in York, PA. The facility began shipping orders during the second quarter of fiscal 2021. Owing to these expansions, the company’s fulfillment network now spans across both coasts of Continental U.S.The company’s strategic deal with Microsoft, to provide customers with enhanced digital solutions, is also noteworthy. GameStop utilizes Microsoft’s cloud solutions',\n",
       "  'It looks like investors of GameStop (NYSE: GME) are in for a rocky end to the week after the video game retailer released their Q2 earnings report last night. Despite revenue topping expectations and coming in 25% higher than where it was the same time last year, shares of the Texas headquartered company still dipped more than 10% in after-hours trading. The fact that EPS was a little light compared to what analysts had been expecting didn’t help, though the GAAP EPS print of -$0.85 was still an improvement on Q1. The company’s sales for the quarter were also up 25% year over year with each of the three core segments (hardware and accessories, software, collectibles) coming in ahead of expectations.  In their address to shareholders, management was keen to make it clear that they’re investing in long-term growth initiatives such as the expansion of their product catalog, improved fulfillment capabilities, and enhanced talent. The $1.8 billion in cash that GameStop ended the quarter with will go a long way in helping their initiatives bear dividends. Despite the strong fundamental movement, management maintained the company’s suspension of forward guidance, but it’s fair to think that like last quarter they “believe total net sales is the most appropriate metric to evaluate performance at this time”. If investors adhere to this logic, then GameStop is going in the right direction. So what does this mean for the direction GameStop shares will go in once the immediate reaction to last night’s numbers is over? A look at their performance so far this year yields some clues. We probably all remember the headlines they garnered back in January and February with their Reddit-fuelled short squeeze, but they’ve remained impressively buoyant since, even as their daily trading volume has normalized. After jumping from $20 to almost $500 in less than a month they’d have been forgiven for retracing most of it, and while they did initially, since the end of February they’ve barely traded below $150. It could be said their chart is showing a dangerous triple top, made up of where shares tapped',\n",
       "  'Investors continue to eye moves in Treasury bond yields, funding debates in Washington  Written by Andrew Button at The Motley Fool Canada Meme stocks like AMC Entertainment (NYSE:AMC) and GameStop (NYSE:GME) are in the news again thanks to a series of strange posts on a market maker’s Twitter account. On Tuesday, Citadel Securities made a series of posts about a controversy it had been involved in earlier in the year. In the posts, the company made the following claims: Citadel Securities did not pressure Robinhood (NYSE:HOOD) to restrict trading on GameStop shares. Citadel Securities CEO Ken Griffin had never spoken to Vlad Tenev personally. Citadel Securities was the “pre-eminent market maker” for retail investors in January. The posts caused quite a stir when they were published. On the same day, #KenGriffinLied trended on Twitter, as meme stock investors expressed doubt as to the veracity of Citadel Securities’s claims. Tweeters strongly questioned the claim that Ken Griffin had never spoken to Vlad Tenev. Many pointed out that Vlad had, in fact, spoken to one of Griffin’s lieutenants and had made comments implying that he was on a first name basis with Griffin himself. Citadel Securities received intense criticism in January and February when it was accused of having pressured Robinhood to restrict trading on meme stocks. In January, Robinhood CEO Vlad Tenev said that market makers pressured his company to halt trading on GME, the most popular meme stock at the time. Citadel Securities is by far Robinhood’s largest market maker, receiving significant amounts of business from a payment for order flow (PFOF) arrangement. Robinhood works with several market makers, but Citadel Securities is the largest among them by volume. In January, it handled 50% of all GME trades. It appears possible, then, that Citadel Securities pressured Robinhood to halt the trades. It could have been one of Robinhood’s other market makers, but Citadel Securities, as the most influential among them, is a prime candidate. Citadel Securities, along with a handful of other market makers, is currently being sued for its role in the GameStop fiasco of January 2021. The',\n",
       "  ' GRAPEVINE, Texas, Sept. 08, 2021 (GLOBE NEWSWIRE) -- GameStop Corp. (NYSE: GME) (“GameStop” or the “Company”) today released financial results for the second quarter ended July 31, 2021. The Company’s condensed and consolidated financial statements, including GAAP and non-GAAP results, are below. The Company’s Form 10-Q and supplemental information can be found at http://investor.GameStop.com. SECOND QUARTER OVERVIEW Generated net sales of $1.183 billion, compared to $942 million in the prior year’s second quarter. Ended the period with cash and restricted cash of $1.78 billion.  Ended the period with no long-term debt, other than a $47.5 million low-interest loan associated with the French government’s pandemic response.  Invested in long-term growth initiatives that include expanding the Company’s product catalog, enhancing its fulfillment network capabilities and technology, and adding talent across the organization.  Entered into a lease of a new 530,000 square foot fulfillment center in Reno, Nevada, positioning the Company’s fulfillment network to span both coasts of the continental U.S.  Entered into a lease of a new customer care center in Pembroke Pines, Florida and started building out U.S.-based customer care operations. WEBCAST AND CONFERENCE CALL INFORMATION A webcast with management is scheduled for September 8, 2021, at 5:00 p.m. ET to discuss the Company’s second quarter activities and financial results. This call, along with supplemental information, can also be accessed at http://investor.GameStop.com. The phone number for the call is 877-451-6152 and the confirmation code is 13722703. This webcast will be archived for two months on GameStop’s investor relations website. NON-GAAP MEASURES AND OTHER METRICS  As a supplement to the Company’s financial results presented in accordance with U.S. generally accepted accounting principles (GAAP), GameStop may use certain non-GAAP measures, such as adjusted SG&A, adjusted operating income (loss), adjusted net income (loss), adjusted diluted earnings (loss) per share, adjusted EBITDA and free cash flow. The Company believes these non-GAAP financial measures provide useful information to investors in evaluating the Company’s core operating performance. Adjusted selling, general and administrative expenses (“Adjusted SG&A”), adjusted operating income (loss), adjusted net income (loss) and adjusted diluted earnings (loss) per share exclude',\n",
       "  ' GameStop\\'s GME, the prodigal son of retail equities amid the retail apocalypse, saw its shares dropped off a 10% cliff out of the gates Thursday morning following a rather disappointing earnings call the prior evening. GameStop missed EPS estimates by a mile, but the biggest disappointment was its lack of guidance regarding its ostensibly ambiguous \"transformation\" plan. However, this rational morning dip was quickly bought up by the seemingly irrational cohort of r/wallstreetbets (WSB) traders (though they did utilized its 50-day moving average, which became a technical support level). This group of nostalgic market-moving traders drove GameStop up thousands of percentage points this year, allowing the firm to raise over a billion in cash through seasoned equity offerings. However, as of now, it looks to be burning a hole in the company\\'s pocket, with an inability to turn a profit with its current business model and no guidance on a new approach. Ryan Cohen, the \\'visionary\\' activist investor with aspirations to drive growth back into this antiquated retailer, is yet to show investors how he plans to do so. With no plan in place, GameStop may run out of money before any operational shift can even be made. I would steer clear of this gambling apparatus. Value Buy On the other hand, Best Buy BBY had an excellent July quarter, blowing analysts\\' estimates out of the water and demonstrating another record set of Q2 results. Best Buy solidified its market control of consumer electronics in the retail space amid the pandemic, as its smaller (less liquid) competitors dropped out of the market. Best Buy has shown excellent operational efficiency in the past 12 months with double-digit sales growth that flowed down in a margin-expanding fashion to even more significant earnings growth. BBY just exhibited its largest operational margins in the stock’s over 2-decade history, with digital omnichannel options shaping up to be a strong profit driver. As the world went remote, there was a significant amount of pulled forward demand. Still, consumers\\' progressing penchant for the latest tech will continue to power this leading consumer electronics retailer through the',\n",
       "  \" In this article we will take a look at the 10 stocks Jim Simons' quant hedge fund is buying. You can skip our detailed analysis of Simons' history, investment philosophy, and hedge fund performance, and go directly to Jim Simons' Quant Hedge Fund is Buying These 10 Stocks. Billionaire investor and mathematician Jim Simons is known as the 'Quant King' in the world of hedge funds, owing to the staggering success of his New York-based quantitative trading hedge fund, Renaissance Technologies. After an esteemed career in academia, Simons eventually stepped into the world of finance in 1978 and founded Monemetrics, the preceding hedge fund to Renaissance Technologies. After few years of experimenting in financing, Jim Simons realized that he could make use of quantitative analysis to make investment gains from market inefficiencies. Thus he began his approach towards investing by solely applying mathematical and statistical modeling and research to interpret market data, searching for non-random movements in the financial data of the stocks he considered trading, thereby predicting future returns in his investments. Ever since its formation, the Medallion hedge fund, Jim Simons' secretive fund and a flagship of Renaissance, has produced groundbreaking results despite being closed to outside investors, with $55 billion in profits over the last 28 years. Renaissance Technologies, as an investment fund, manages more than $80 billion in its investment portfolio. Renaissance Technologies' portfolio is diversified across 13 distinct sectors, with the Healthcare sector as the largest, accounting for 15.6% of the fund's total portfolio. A majority of the companies in the fund’s portfolio are large-cap stocks, with stocks sizing up to more than $10 billion in market cap making up 12% of the fund's total value. Some of the notable stocks present in the investment portfolio of Renaissance Technologies at the end of the second quarter of 2021 include Amazon.com, Inc. (NASDAQ:AMZN), Alphabet Inc. (NASDAQ:GOOG), Moderna, Inc. (NASDAQ:MRNA), Microsoft Corporation (NASDAQ:MSFT) and NVIDIA Corporation (NASDAQ:NVDA), among others discussed in detail below. Jim Simons of Renaissance Technologies Our Methodology With this background in mind, let us now look towards the 10 best stocks to buy\"],\n",
       " 'TSLA': ['Thank you for your patience. Our engineers are working quickly to resolve the issue.',\n",
       "  'With the stock market pulling back sharply over the last few trading sessions, investors would probably expect a high beta technology stock like Tesla (NASDAQ: TSLA) to be down significantly as well. That’s surprisingly not the case, as the electric vehicle company has been showing serious relative strength amidst market weakness. This could be a sign that Tesla is gearing up for an end-of-year rally, particularly when you consider the fact that the stock has been stuck in neutral for the majority of 2021. Although Tesla’s current valuation might raise some eyebrows among investors who are keen on fundamental analysis, the company’s unique brand and market-leading status in the EV industry still make it one of the most intriguing companies today. According to MarketBeat, there are even analysts out there bold enough to slap a $1200 price target on the stock, which implies the potential for massive upside. The truth is that Tesla might be one of the best stocks to consider buying in the S&P 500 at this time, and here are a few reasons why:  Sometimes, it pays to keep things simple when it comes to investing. We know how many governments and businesses are focusing on clean energy sources as an alternative to fossil fuels, and this trend is only going to gain momentum in the coming years. For example, consider the Biden Administration’s $7.5 billion plan to expand electric vehicle charging to underserved areas. That’s a huge reason why Tesla could deliver strong outperformance over the long term, as it’s a company that is disrupting both the automotive and power generation industries with cutting-edge clean energy technology. The global EV market is expected to reach an estimated $725 billion by 2026 and international markets like China and Europe are seeing huge demand for these vehicles. Tesla is well-positioned to expand internationally into these high-growth markets thanks to a gigafactory in Shanghai and a planned gigafactory in Berlin. Tesla is also investing heavily in R&D to reduce its manufacturing costs and improve its technology, which could at some point allow for the mass adoption of electric',\n",
       "  \" In this article we will take a look at the some of notable stocks on the move today. You can skip our detailed analysis of these stocks and go to read Why These 5 Stocks Are on the Move on Wednesday. Although Congress hasn't increased the debt limit of the United States just yet, the three major indexes are each in the green today. The Dow Jones and the S&P 500 are each up around 0.6%and the NASDAQ index is up around 0.7%. Some stocks also on the move today include Morgan Stanley (NYSE:MS), Electronic Arts Inc. (NASDAQ:EA), Dollar Tree, Inc. (NASDAQ:DLTR), The Boeing Company (NYSE:BA), Netflix, Inc. (NASDAQ:NFLX), Conagra Brands, Inc. (NYSE:CAG), and Tesla, Inc. (NASDAQ:TSLA). Let's analyze why each stock is moving and how elite funds are positioned among them. Why do we care about hedge fund fund activity? Insider Monkey’s research was able to identify in advance a select group of hedge fund holdings that outperformed the S&P 500 ETFs by more than 86 percentage points since March 2017. Between March 2017 and July 2021 our monthly newsletter’s stock picks returned 186.1%, vs. 100.1% for the SPY. Our stock picks outperformed the market by 86 percentage points (see the details here). That’s why we believe hedge fund sentiment is an extremely useful indicator that investors should pay attention to. You can subscribe to our free newsletter on our homepage to receive our stories in your inbox. Photo by Souvik Banerjee on Unsplash 10. Dollar Tree, Inc. (NASDAQ:DLTR) has rallied more than 15% after the company said it would sell products in its stores for over $1 in its Dollar Tree Plus stores. The retailer will also test the concept in its traditional stores as well. Dollar Tree, Inc. (NASDAQ:DLTR) is making the move due to inflation and logistic costs increasing. Dollar Tree, Inc. (NASDAQ:DLTR) will still focus on offering value to customers despite the philosophy change. Of the around 873 elite funds in our database, 42 were long Dollar Tree, Inc. (NASDAQ:DLTR) at the end of Q2. 9. The Boeing Company (NYSE:BA) has rallied over 5%\",\n",
       "  \" This article first appeared on Simply Wall St News. It is hard to compete against Tesla, Inc. (NASDAQ: TSLA), especially when it comes to volatility. After setting a new all-time high upon the S&P500 inclusion, the stock lost an incredible 40%. However, the recent price action has been very encouraging for bulls. As the stock marches to new highs, we will look at the current ownership structure in this article. See our latest analysis for Tesla. Cathie Wood, CEO of Ark Invest, explained the move to sell 180,000 TSLA shares as a cash-raising measure to boost the stake in UiPath (NYSE: PATH). Wood pointed out that TSLA remains the largest holding in her portfolio, confirming the bullish stance on the stock. Meanwhile, the company just obtained a patent for laser beam windshield wiper technology. From the current standpoint, it is hard to understand why anyone would potentially point a laser toward the driver. Still, a proper application of this technology is yet to be understood. In addition, Tesla also possesses a patent for electromagnetic wipers. The problems with automated driving are persistent as the latest Model 3 fatal crash in Florida prompted the investigation by the National Transportation Safety Board (NTSB). The agency officials have been following the application of autonomous driving technologies, already investigating 33 crashes involving Tesla vehicles with partially automated driver-assist systems. On a more positive note, Wedbush Securities issued a positive note, claiming that Tesla can get to 900k deliveries in 2021 and 1.3m in 2022. The data below shows that after the first half of 2021, the company still leads the global plug-in EV market. Wedbush has Tesla as “Outperform,” with a price target of US$1,000, which would be a new all-time high. With a market capitalization of US$752b, Tesla is relatively large. We'd expect to see institutional investors on the register. Companies of this size are usually well known to retail investors, too. Our analysis of the company's ownership below shows that institutions own shares in the company. Let's take a closer look to see what the different types of shareholders can tell\",\n",
       "  ' (Bloomberg) -- Cathie Wood sold a near $270 million stake in Tesla Inc. as the bond selloff hit rate-sensitive technology stocks to spur outflows from her growth-focused funds. Most Read from Bloomberg The Country That Makes Breakfast for the World Is Plagued by Fire, Frost and Drought The Unstoppable Appeal of Highway Expansion HSBC Bets Big on China as Pressure Mounts in London How Los Angeles Became the City of Dingbats Why the Gaza Strip May Be the City of the Future Wood’s Ark Investment Management offloaded more than 340,000 Tesla shares across three exchange-traded funds on Tuesday, according to the firm’s daily trading update. Some 11% of the famous ARK Innovation ETF (ticker ARKK) is still betting on Elon Musk’s company, according to data compiled by Bloomberg. The firm tends to trim the stake when it rises above 10%. Tesla has generally outperformed in the global rout hitting rate-sensitive investing styles, while ARKK posted one of its worst sessions in months on Tuesday. Meanwhile data overnight showed money managers withdrew $297 million from the growth-focused fund on Monday, the most since March, to bring the four-day outflow to more than $660 million. Since the Federal Reserve signaled last week a move to taper pandemic stimulus, Treasury yields have jumped and sent a shockwave through growth shares. Ark funds are heavily exposed to such names thanks to Wood’s focus on disruptive innovation and tech. Tesla remains Wood’s largest bet as the biggest holding for the flagship ARKK fund as well as the firm overall. She predicts its shares will rise from around $778 currently to $3,000. However, Ark often trims its stake in the carmaker when it has performed very well or grown too large in the portfolio. The carmaker was up 5.7% this month through Tuesday, compared with a 5.2% drop for the Nasdaq 100 tech gauge. ARKK was down 8.2%. Trading arrangements for the Ark ETFs mean flow data arrives with a one-day lag, but given ARKK’s 4.2% slump on Tuesday it’s likely there were more outflows in the latest session. If so, the amount of Tesla',\n",
       "  \" In this article we will take a look at the some of notable stocks that moved this week. You can skip our detailed analysis of these stocks and go to read Why These 5 Tech Stocks Moved This Week. This week has been a roller coaster ride for the market given China's Evergrande situation and the Fed meeting. It has also been an eventful week for stocks such as salesforce.com, inc. (NYSE:CRM), Micron Technology, Inc. (NASDAQ:MU), Tesla, Inc. (NASDAQ:TSLA), Apple Inc. (NASDAQ:AAPL), Facebook Inc. (NASDAQ:FB), Amazon.com Inc. (NASDAQ:AMZN), and Alphabet Inc. (NASDAQ:GOOG). Let's find out why the spotlight was on each stock this week and how elite funds were positioned among them. Why do we care about hedge fund fund activity? Insider Monkey’s research was able to identify in advance a select group of hedge fund holdings that outperformed the S&P 500 ETFs by more than 86 percentage points since March 2017. Between March 2017 and July 2021 our monthly newsletter’s stock picks returned 186.1%, vs. 100.1% for the SPY. Our stock picks outperformed the market by 86 percentage points (see the details here). That’s why we believe hedge fund sentiment is an extremely useful indicator that investors should pay attention to. You can subscribe to our free newsletter on our homepage to receive our stories in your inbox. 10. Tesla, Inc. (NASDAQ:TSLA) shares rose almost 5.5% this week due to the broader market rally and Musk's comments that the semiconductor chip shortage that has been a headwind for many automakers could be a short term problem. Further helping sentiment could be Tesla, Inc. (NASDAQ:TSLA)'s 'beta button' which allows owners to request the company's most sophisticated version of autonomous driving software with a press of a finger. The 'beta button' went live on Friday. Although Tesla, Inc. (NASDAQ:TSLA)'s autonomous software isn't really fully autonomous, it has potential to be sometime in the future. Catherine D. Wood's ARK Investment Management owned more than 5.4 million shares in Tesla, Inc. (NASDAQ:TSLA) at the end of June. 9. Apple Inc. (NASDAQ:AAPL) stock rallied more than 2% this week due to the rise\",\n",
       "  'Thank you for your patience. Our engineers are working quickly to resolve the issue.',\n",
       "  ' Tesla, Inc. (NASDAQ: TSLA) is scheduled to report its third-quarter delivery number later this week. Expectations are running higher after the electric vehicle giant reported record cumulative deliveries of over 386,000 vehicles in the first half of the year. Q3 Expectations For Tesla: With Tesla hinting at targeting 50% average annual growth in vehicle deliveries over a multiyear time horizon, the company may have to clock in sales of about 750,000 in 2021 versus the 499,550 vehicles it delivered in 2020 to meet or exceed the target.\\xa0 This would leave the company shooting for 364,000 deliveries in the second half of the year. The Street\\'s Tesla Delivery Forecasts: Wall Street analysts are optimistic. The ballpark estimates of most analysts hovers around the magic number of 233,000 units for the third quarter. RBC Capital Markets analyst Joseph Spak estimates deliveries of 233,500 units, which would represent a 67% year-over-year increase. The analyst expects Model 3/Y deliveries of 223,476 units and Model S/X deliveries of 10,000 units. Regionally, Spak forecasts deliveries of 90,000 units in the U.S., 61,000 units in Europe, 66,476 units in China, 8,000 units in Canada and 8,000 units in the rest of the world. Piper Sandler analyst Alexander Potter raised his third-quarter delivery estimate for Tesla to 233,000, premised on reports of strong production. The analyst said he expects Tesla\\'s China market share to inflect higher in September thanks to a focus on domestic deliveries over exports. \"We think Q3 will be TSLA\\'s strongest quarter ever,\" he said.\\xa0 The chip shortage could prove to be a dampener if it all it impacts production, Potter said. Chinese EV peers Nio Inc. (NYSE: NIO) and Li Auto, Inc. (NASDAQ: LI)  tempered delivery forecasts on the basis of component and chip shortages. Related Link: EV Week In Review: Cathie Wood\\'s Big Statement On Tesla, Chip Crunch Scare For Li Auto, Workshorse\\'s Travails Continue, Nio Updates On Norway Is Tesla\\'s China Demand Holding Up?  Tesla\\'s wholesale sales in China came in at 32,968 units in July, of which 24,347 were exported, according to data from industry body China Passenger',\n",
       "  \" Hedge funds and large money managers usually invest with a focus on the long-term horizon and, therefore, short-lived dips or bumps on the charts usually don't make them change their opinion towards a company. This time it may be different. The coronavirus pandemic destroyed the high correlations among major industries and asset classes. We are now in a stock pickers market where fundamentals of a stock have more effect on the price than the overall direction of the market. As a result we observe sudden and large changes in hedge fund positions depending on the news flow. Let’s take a look at the hedge fund sentiment towards Tesla Inc. (NASDAQ:TSLA) to find out whether there were any major changes in hedge funds' views. Is Tesla Inc. (NASDAQ:TSLA) the right pick for your portfolio? Investors who are in the know were taking a pessimistic view. The number of long hedge fund positions went down by 2 lately. Tesla Inc. (NASDAQ:TSLA) was in 60 hedge funds' portfolios at the end of June. The all time high for this statistic is 68. Our calculations also showed that TSLA isn't among the 30 most popular stocks among hedge funds (click for Q2 rankings). There were 62 hedge funds in our database with TSLA positions at the end of the first quarter. In the financial world there are a large number of tools investors have at their disposal to grade stocks. A pair of the most under-the-radar tools are hedge fund and insider trading indicators. We have shown that, historically, those who follow the top picks of the best fund managers can outperform the broader indices by a solid amount. Insider Monkey's monthly stock picks returned 185.4% since March 2017 and outperformed the S&P 500 ETFs by more than 79 percentage points (see the details here). That's why we believe hedge fund sentiment is a useful indicator that investors should pay attention to. Cathie Wood of ARK Investment Management At Insider Monkey, we scour multiple sources to uncover the next great investment idea. For example, lithium mining is one of the fastest growing industries\",\n",
       "  ' In this article, we discuss the future growth catalysts, hedge fund sentiment and analyst ratings for Tesla, Inc. (NASDAQ: TSLA). If you want to skip our detailed analysis of the stock, go directly to Analyzing Tesla, Inc. (NASDAQ: TSLA): More Future Growth Catalysts, Hedge Fund Sentiment and Analyst Ratings. There is little doubt that Tesla, Inc. (NASDAQ: TSLA), the electric vehicle (EV) maker headquartered in California, has made giant strides in establishing itself as the biggest name in not only the EV space but also the automotive industry as a whole over the last decade. The company, led by billionaire Elon Musk, has a market capitalization of $720 billion. Since the IPO in 2010, the stock has surged more than 20,000%. However, it is also one of the most high volume names on the market, a stock characteristic that often leads to price volatility.  After registering a record rally that lasted through most of last year - Tesla, Inc. (NASDAQ: TSLA) stock price jumped more than 700% between February 2020 and February 2021 - the stock has been taking a breather since April on the back of concerns around slowing EV demand, a global chip shortage that has affected EV production, and a dramatic fall in the price of cryptocurrencies. The company is heavily invested in the new technology and reportedly bought more than $1.5 billion worth of Bitcoin earlier this year.  Despite these concerns, some of which have been around for years, Tesla, Inc. (NASDAQ: TSLA) has continued to consistently beat the market on growth, smash earnings expectations on Wall Street, and provide investors with record returns. For example, in earnings results for the second quarter, posted on July 26, the company reported earnings per share of $1.45, beating market predictions by $0.47. The revenue over the period was close to $12 billion, up 98% year-on-year and beating analyst estimates by $560 million.  The delivery numbers of Tesla, Inc. (NASDAQ: TSLA), which are often the subject of intense debate, have also been more than impressive. In the second quarter, the company reported 201,250 deliveries, up'],\n",
       " 'BTC': ['Thank you for your patience. Our engineers are working quickly to resolve the issue.',\n",
       "  ' Wasting no time, crypto bulls already see last week\\'s banishment of crypto trading by the Chinese government as a boon to the emerging sector. Speaking at Yahoo Finance\\'s Crypto Investing Summit this week, the investor and podcaster, Anthony Pompliano, echoed the sentiment of many longtime investors of the asset class.\\xa0 The Chinese government banned cryptocurrency activities at least 5 different times before last week, with this most recent action making crypto trading or offering any crypto-related services to Chinese citizens a financial crime. (Here\\'s the official statement from Chinese regulators.) Since the announcement, reports indicate that an exodus like what happened to the country\\'s crypto mining companies back in May is now underway for crypto companies in violation of the law.\\xa0 Two of the world\\'s largest cryptocurrency exchanges, Binance and Huobi, both halted registrations for new China-based customers over the weekend.\\xa0 But Pompliano views the crackdown as a positive development, not only for the crypto sector but also for the U.S. economy. \"This is the most American technology that we have today, similar to the internet,\" Pompliano told Yahoo Finance. \"China is making a massive geopolitical mistake here. Now it\\'s up to the United States... If someone is going to benefit from this technology, we better make sure it\\'s us.\" After dropping from $45,000 on the news to just below $41,000, bitcoin – now hovering above $42,000 – and other major cryptocurrencies show signs of recovery. Bitcoin (BTC-USD), Ethereum (ETH-USD), Binance\\'s exchange coin BNB, and Solana (SOL1-USD) all show improvement over the last 24 hours, while Cardano (ADA-USD) and Ripple remain in the red. To be sure, all of these assets sold off at the beginning of the week. To assume the crypto sector will not see some price reflection from losing Chinese customers is wrong. In light of these concerns, however, geographic data from the blockchain analysis firm, Chainalysis, indicates that East Asia, a region which China dominates, already saw a decline in the growth of its crypto trading relative to other parts of the world. Over the past year, global crypto transaction volume in North America and',\n",
       "  'Thank you for your patience. Our engineers are working quickly to resolve the issue.',\n",
       "  'Following a huge surge in cryptocurrency prices this year, crypto is going through a consolidation period, Galaxy Digital Holdings Ltd (Pink: BRPHF) CEO Mike Novogratz said Wednesday on CNBC\\'s \"Squawk Box.\" Levels To Watch: $40,000 is an important level for Bitcoin (CRYPTO: BTC) to hold, Novogratz said, adding that if it falls below $40,000, $38,000 will be the next level to watch. For Ethereum (CRYPTO: ETH), the $2,800 level \"seems to be an important level to hold.\" Novogratz noted the two most popular cryptocurrencies have traded within those ranges during the consolidation period. Related Link: Why Bitcoin Price Action Below K Could Be \\'Fast And Volatile\\' What\\'s Next: Novogratz told CNBC he is still anticipating a surge in cryptocurrency prices before the end of the year. \"My guess is it\\'s not until halfway to a third of the way through the fourth quarter that you see the next surge,\" he said. The asset classes that perform the best throughout the year tend to be the ones that finish the year strong, he said. The Galaxy Digital CEO is still pretty optimistic for a strong fourth quarter in crypto, but expects \"more chop\" before popular cryptocurrencies begin surging higher. BTC, ETH Price Action: Bitcoin is down 0.93% at $41,993 over a 24-hour period. Ethereum is down 1.40% at $2,900.01 over a 24-hour period. Photo: Sulayman Sanyang from Pixabay. See more from Benzinga Click here for options trades from Benzinga Why Bitcoin-Related And Ethereum-Related Stocks Are Dropping Today Why Bitcoin-Related Stock Bit Digital Is Trading Lower Today © 2021 Benzinga.com. Benzinga does not provide investment advice. All rights reserved. Shiba Inu gains ground as crypto markets rebound. Satya Nadella says he\\'d been interested in acquiring TikTok, but the urging from the Trump administration made it different from other attempted acquisitions. A group led by Italian phone group Telecom Italia (TIM) has presented a plan to the government\\'s innovation ministry to create a cloud-based infrastructure for the country\\'s public administration data.  The infrastructure, called National Strategic Hub (NSH), is part of the Italian government\\'s strategy to accelerate digital transformation and guarantee national',\n",
       "  'Investors continue to eye moves in Treasury bond yields, funding debates in Washington  Investors who want to buy a cryptocurrency ETF don\\'t have to choose between bitcoin (BTC) or ethereum (ETH) and its tokens called ether, because a new fund that holds both started trading today. The new ETF from Evolve ETFs trades under the ticker ETC on the TSX and is Canada\\'s first multicurrency ETF. It will hold the world\\'s two largest cryptocurrencies weighted by their market capitalization, which is around 67 per cent bitcoin and 33 per cent ethereum. For now, Evolve will do this by holding its bitcoin ETF (EBIT) and Ether ETF (ETHR) and rebalanced monthly. Bitcoin and ethereum make up around 65 per cent of the cryptocurrency market. \"Bitcoin has established itself as a store of value and is often referred to as digital gold,\" said Raj Lala, president and CEO, Evolve ETFs in a release. \"Ether is often referred to as digital oil and has become an essential building block for digital finance including NFTs and other DeFi applications.\" Combining the two can also help provide diversification. Though they often move in similar directions, performance has varied between bitcoin and ether. Evolve says in 2020, ether outperformed bitcoin by over 150 per cent. But ether was negative in 2019 while bitcoin was up 90 per cent. ETC is TFSA and RRSP-eligible and has no fee but the underlying funds charge 0.75 per cent annually plus applicable taxes. Price movements will be based on the U.S. dollar prices of bitcoin and ether. Evolve says it doesn\\'t plan for ETC to pay regular distributions. Canada has been ahead of the game compared to the U.S. when it comes to cryptocurrency ETFs. Bitcoin ETFs from Purpose Investments (BTCC.B. and BTCC.U) and Evolve ETFs were the first out of the gate in February. The SEC in the U.S. still hasn\\'t given any cryptocurrency ETF the greenlight. Jessy Bains is a senior reporter at Yahoo Finance Canada. Follow him on Twitter @jessysbains. Download the Yahoo Finance app, available for Apple and Android. What are cookies, exactly, and are',\n",
       "  'PALO ALTO, Calif., Sept. 29, 2021 (GLOBE NEWSWIRE) -- Bitcoin Latinum (LTNM), the next generation, insured, asset-backed cryptocurrency, is announcing it will list on DigiFinex, one of the world\\'s largest cryptocurrency exchanges, in the third week of October. Monsoon Blockchain, Bitcoin Latinum\\'s lead developer, plans for the token to list on a number of top global exchanges in the upcoming months. Headquartered in Singapore, DigiFinex boasts over 4 million users across the globe, and can be accessed by users in 150 countries. LTNM will be available for trading with BTC and USDT pairs and official trading is expected to start around the week of Oct 21, 2021. The DigiFinex listing will be the first of a half dozen exchanges, which plan to list LTNM before the end of 2021. Bitcoin Latinum was built as an open-architecture cryptocurrency technology, capable of handling large transaction volume, cybersecurity, and digital asset management. Based on the Bitcoin ecosystem, Bitcoin Latinum was developed by Monsoon Blockchain Corporation on behalf of the Bitcoin Latinum Foundation. LTNM is a greener, faster, and more secure version of Bitcoin, and poised to revolutionize digital transactions. Through its listing on DigiFinex, LTNM intends to reach a significantly wider audience of users and investors. Kiana Shek, the CXO of DigiFinex Exchange, shared her view on LTNM\\'s upcoming listing, stating, \"Sustainability is always our first priority, professionally as well as personally, and Bitcoin Latinum is bringing a way out. We are excited to be the very first exchange to launch LTNM, the greener and faster Bitcoin with Proof-of-Stake consensus.\" With daily trading volume around $1 billion, DigiFinex is one of the top-rated cryptocurrency exchanges that offer spot, leverage, perpetual trading, and fiat to crypto trading. In addition, DigiFinex offers unparalleled 24/7 customer service for its user base. Recently, DigiFinex obtained the exemption of Provision of Digital Payment Token Services in Singapore, allowing for users in the region to use its platform for acquiring cryptocurrencies. For more information about DigiFinex, please visit https://www.digifinex.com/. Bitcoin Latinum was developed with a highly scalable network that will initially support up to 10,000 transactions per second and',\n",
       "  ' Cryptocurrency-related stocks, including Marathon Digital Holdings Inc (NASDAQ: MARA), Riot Blockchain Inc (NASDAQ: RIOT) and Bit Digital Inc (NASDAQ: BTBT), are trading lower amid a decrease in the price of Bitcoin (CRYPTO: BTC) and Ethereum (CRYPTO: ETH). Weakness in crypto stocks may also be in sympathy with overall markets amid a rise in bond yields, which has weighed on growth sectors such as technology. Marathon Digital is focused on mining digital assets. It owns crypto-currency mining machines and a data center to mine the digital assets. Riot Blockchain is focused on building, supporting and operating blockchain technologies. Bit Digital is engaged in the Bitcoin mining business. Its mining platform operates with the primary intent of accumulating Bitcoin, which the company may sell from time to time to fund its operating expenses. BTC, ETH Price Action: Bitcoin was down 3.99% at $41,564 and Ethereum was down 5.57% at $2,866.91 over a 24-hour period at time of publication. Photo: Miloslav Hamřík from Pixabay. See more from Benzinga Click here for options trades from Benzinga Why Bitcoin-Related Stock Bit Digital Is Trading Lower Today Why Bitcoin-Related And Ethereum-Related Stocks Are On The Move Today © 2021 Benzinga.com. Benzinga does not provide investment advice. All rights reserved. Related Quotes Marathon Digital stock has been volatile as Bitcoin adoption grows. Here’s what the fundamentals and technical analysis say about the stock. Crypto funds are drawing the most new money in three weeks, even amid China\\'s crackdown on cryptocurrencies. New data on weekly crypto asset flows reveals investors pumped $95 million into digital asset products last week, more than double the prior week. \"All About Bitcoin\" host Christine Lee breaks down the Chart of the Day. Mark Hulbert, founder and president of the Hulbert Financial Digest, warns that \\'stubborn bullishness\\' among investors vowing to buy the dip or \\'hold on come hell or high water\\' is a \\'hallmark of a market top.\\' Regulators globally have been cracking down on crypto, in decree or rhetoric, causing exchanges and prices to retrench. But crypto insiders say networks can continue to survive and thrive. Following a mixed day',\n",
       "  'Thank you for your patience. Our engineers are working quickly to resolve the issue.',\n",
       "  ' Toronto, Ontario--(Newsfile Corp. - September 29, 2021) - Canada Computational Unlimited Corp. (TSXV: SATO) (the \"Corporation\") announces today that Canada Computational Unlimited Inc. (\"CCU.ai\"), a wholly owned subsidiary of the Corporation, completed the early repayment of loans payable which are repayable in Bitcoin on September 29, 2021 (the \"Termination Date\"). Description of the BTC Loan Agreements  On June 30, 2019, CCU entered into bitcoin loan agreements (the \"BTC Loan Agreements\") pursuant to which it borrowed a total of 118.4743 bitcoins (\"BTC\") from eight shareholders of CCU: Romain Nouzareth, Mathieu Nouzareth, Julien Romanetto, Frédéric Montagnon and four other arm\\'s length shareholders of CCU (collectively, the \"Lenders\"). The BTC Loan Agreements provided CCU the ability to elect to repay in BTC according to pre-established phases as described in the BTC Loan Agreements: Early Repayment Phases Phase 1: Each month until the mining equipment is connected, the Borrower will pay each Lender 0.075 BTC. Phase 2: From the time the mining equipment is operational until the Borrower has repaid each Lender 3 BTC, the Borrower will pay to such Lender 85% of the BTC created using the mining equipment, less the electricity costs and the pool costs (1%) (the \"Contribution Margin\"). Phase 3: For 18 months after the end of Phase 2, repayment of 50% of the Contribution Margin. No security was granted by CCU on any of its assets in connection with the BTC Loan Agreements, nor are there any securities of CCU or the Corporation to be issued in repayment of the BTC Loan Agreements. Repayment of the BTC Loan Agreements  CCU made all payments required under Phase 1 of the BTC Loan Agreements until connection of the mining equipment. On the Termination Date, CCU and the Lenders agreed to proceed with the early repayment of all outstanding indebtedness under the BTC Loan Agreements and the payment of all other amounts owed to the Lenders pursuant to Phase 2 and Phase 3 of the BTC Loan Agreements (the \"Early Repayment\"). The Corporation and CCU decided to proceed to the Early Repayment in order to reduce the Corporation\\'s indebtedness',\n",
       "  ' After a bearish day for Bitcoin and the majors on Tuesday, it’s been a broadly bullish Wednesday morning. At the time of writing, Bitcoin, BTC to USD, was down by 0.29% to $42,059.0. A mixed start to the day saw Bitcoin rise to an early morning intraday high $42,777.0 before hitting reverse. Falling well short of the first major resistance level at $43,646, Bitcoin slid to a late morning intraday low $41,548. While steering clear of the first major support level at $41,425, Bitcoin tested support at the 38.2% FIB of $41,592. It has been a mixed morning for the broader crypto market. At the time of writing, Crypto.com Coin was down by 4.03% to lead the way down, with Cardano’s ADA (-0.02%) also joining Bitcoin in the red. It’s been a bullish morning for the rest of the majors, however. Chainlink and Bitcoin Cash SV were up by 2.63 and by 2.11% respectively to lead the way. Binance Coin (+1.48%), Litecoin (+1.47%), and Ripple’s XRP (1.70%) also found strong support. Ethereum (+0.03%) and Polkadot (+0.82%) trailed the front runners, however. Through the early hours, the crypto total market cap rose to an early morning high $1,916bn before falling to a low $1,865bn. At the time of writing, the total market cap stood at $1,891bn. Bitcoin’s dominance rose to an early morning high 42.12% before falling to a low 41.83%. At the time of writing, Bitcoin’s dominance stood at 41.86%. Bitcoin would need to move through the $42,891 pivot to bring the first major resistance level at $43,646 into play. Support from the broader market will be needed, however, for Bitcoin to break out from the morning high $42,777.0. Barring a broad-based crypto rebound, the first major resistance level and resistance at $44,000 would likely cap any upside. In the event of an extended rally through the afternoon, Bitcoin could test resistance at $45,000 before any pullback. The second major resistance level sits at $45,112. Failure to move through the $42,891 pivot would bring the 38.2% FIB of $41,592 and the first major support level at $41,425 back into']}"
      ]
     },
     "execution_count": 55,
     "metadata": {},
     "output_type": "execute_result"
    }
   ],
   "source": [
    "articles = {ticker:scrape_and_process(cleaned_urls[ticker]) for ticker in monitored_tickers}\n",
    "articles"
   ]
  },
  {
   "cell_type": "code",
   "execution_count": 57,
   "id": "c963390d",
   "metadata": {},
   "outputs": [
    {
     "data": {
      "text/plain": [
       "'Following a huge surge in cryptocurrency prices this year, crypto is going through a consolidation period, Galaxy Digital Holdings Ltd (Pink: BRPHF) CEO Mike Novogratz said Wednesday on CNBC\\'s \"Squawk Box.\" Levels To Watch: $40,000 is an important level for Bitcoin (CRYPTO: BTC) to hold, Novogratz said, adding that if it falls below $40,000, $38,000 will be the next level to watch. For Ethereum (CRYPTO: ETH), the $2,800 level \"seems to be an important level to hold.\" Novogratz noted the two most popular cryptocurrencies have traded within those ranges during the consolidation period. Related Link: Why Bitcoin Price Action Below K Could Be \\'Fast And Volatile\\' What\\'s Next: Novogratz told CNBC he is still anticipating a surge in cryptocurrency prices before the end of the year. \"My guess is it\\'s not until halfway to a third of the way through the fourth quarter that you see the next surge,\" he said. The asset classes that perform the best throughout the year tend to be the ones that finish the year strong, he said. The Galaxy Digital CEO is still pretty optimistic for a strong fourth quarter in crypto, but expects \"more chop\" before popular cryptocurrencies begin surging higher. BTC, ETH Price Action: Bitcoin is down 0.93% at $41,993 over a 24-hour period. Ethereum is down 1.40% at $2,900.01 over a 24-hour period. Photo: Sulayman Sanyang from Pixabay. See more from Benzinga Click here for options trades from Benzinga Why Bitcoin-Related And Ethereum-Related Stocks Are Dropping Today Why Bitcoin-Related Stock Bit Digital Is Trading Lower Today © 2021 Benzinga.com. Benzinga does not provide investment advice. All rights reserved. Shiba Inu gains ground as crypto markets rebound. Satya Nadella says he\\'d been interested in acquiring TikTok, but the urging from the Trump administration made it different from other attempted acquisitions. A group led by Italian phone group Telecom Italia (TIM) has presented a plan to the government\\'s innovation ministry to create a cloud-based infrastructure for the country\\'s public administration data.  The infrastructure, called National Strategic Hub (NSH), is part of the Italian government\\'s strategy to accelerate digital transformation and guarantee national'"
      ]
     },
     "execution_count": 57,
     "metadata": {},
     "output_type": "execute_result"
    }
   ],
   "source": [
    "articles['BTC'][3]"
   ]
  },
  {
   "cell_type": "code",
   "execution_count": null,
   "id": "88a89a26",
   "metadata": {},
   "outputs": [],
   "source": []
  },
  {
   "cell_type": "markdown",
   "id": "a10724f9",
   "metadata": {},
   "source": [
    "## 3.4. Summarise all Articles"
   ]
  },
  {
   "cell_type": "code",
   "execution_count": 58,
   "id": "f4f9f113",
   "metadata": {},
   "outputs": [],
   "source": [
    "def summarize(articles):\n",
    "    summaries = []\n",
    "    for article in articles:\n",
    "        input_ids = tokenizer.encode(article, return_tensors='pt')\n",
    "        output = model.generate(input_ids, max_length=55, num_beams=5, early_stopping=True)\n",
    "        summary = tokenizer.decode(output[0], skip_special_tokens=True)\n",
    "        summaries.append(summary)\n",
    "    return summaries"
   ]
  },
  {
   "cell_type": "code",
   "execution_count": 59,
   "id": "40044bce",
   "metadata": {},
   "outputs": [
    {
     "data": {
      "text/plain": [
       "{'GME': ['Shares of the self-described tech company are down 12% so far in September. One could be punishing meme trader crowd for lack of clarity',\n",
       "  \"‘Retail factor is here to stay,' says Siebert Williams Shank. Off-exchange trading made up 47.2% of equity volume in January 2021\",\n",
       "  'Hedge funds have lost billions of dollars in the short squeeze battle. Retail investors are slowly transforming market dynamics',\n",
       "  'RF Capital Management published its second-quarter 2021 investor letter. GME returned 977.81% since the beginning of the year',\n",
       "  'Plans to hire nearly 500 employees at new customer service center in Pembroke Pines, FL. Company has been undertaking radical digital transformation efforts',\n",
       "  'Shares dip more than 10% in after-hours trading despite strong report. Management says they’re investing in long-term growth initiatives',\n",
       "  'Market maker Citadel Securities made a series of posts on Twitter. Claim that CEO Ken Griffin had never spoken to Vlad Tenev',\n",
       "  'Second quarter net sales of $1.183 billion compared to $942 million in the prior year. Cash and restricted cash of $1.78 billion ended the period',\n",
       "  \"Best Buy had an excellent July quarter, blowing analysts' estimates out of the water.\",\n",
       "  'Jim Simons’ Renaissance Technologies has made record profits over the last 28 years. 10 best stocks to buy for 2019'],\n",
       " 'TSLA': ['We are aware of the issue and are working to resolve it.',\n",
       "  'Electric vehicle company has been stuck in neutral for the majority of 2021. Tesla could deliver strong outperformance over the long term',\n",
       "  'The Dow Jones, the S&P 500 and the Nasdaq are all in the green today. Dollar Tree to sell over $1 products in its Dollar Tree Plus stores',\n",
       "  'Tesla just obtained a patent for laser beam wiper technology.',\n",
       "  'Wood’s ARK Innovation ETF posted one of worst sessions in months. Tesla has generally outperformed in the global rout',\n",
       "  'Tesla, Apple, Facebook, Amazon, and Alphabet all moved this week.',\n",
       "  'We are aware of the issue and are working to resolve it.',\n",
       "  'Wall Street expects record third-quarter deliveries. Tesla may have to clock in sales of about 750,000 in 2021',\n",
       "  'Tesla Inc. (:TSLA) was in 60 hedge funds’ portfolios at the end of June.',\n",
       "  \"Elon Musk's electric vehicle maker has made giant strides. Tesla has been consistently beating market expectations\"],\n",
       " 'BTC': ['We are aware of the issue and are working to resolve it.',\n",
       "  'Anthony Pompliano sees China crackdown as positive for U.S. economy. Chainalysis says East Asia already saw a decline in crypto trading volume',\n",
       "  'We are aware of the issue and are working to resolve it.',\n",
       "  'Galaxy Digital CEO expects more chop in crypto. Novogratz still expects strong fourth quarter for crypto',\n",
       "  \"ETC is Canada's first multicurrency ETF. Ether and bitcoin make up around 65 per cent of the cryptocurrency market\",\n",
       "  'Bitcoin Latinum is a greener, faster, and more secure version of Bitcoin.',\n",
       "  'Shares of Marathon Digital, Riot Blockchain and Bit Digital are trading lower.',\n",
       "  'We are aware of the issue and are working to resolve it.',\n",
       "  'Early repayment of loans payable which are repayable in Bitcoin on September 29, 2021.',\n",
       "  'Chainlink, Bitcoin Cash SV lead crypto market cap higher through early hours.']}"
      ]
     },
     "execution_count": 59,
     "metadata": {},
     "output_type": "execute_result"
    }
   ],
   "source": [
    "summaries = {ticker:summarize(articles[ticker]) for ticker in monitored_tickers}\n",
    "summaries"
   ]
  },
  {
   "cell_type": "code",
   "execution_count": 60,
   "id": "02ce7b22",
   "metadata": {},
   "outputs": [
    {
     "data": {
      "text/plain": [
       "['We are aware of the issue and are working to resolve it.',\n",
       " 'Anthony Pompliano sees China crackdown as positive for U.S. economy. Chainalysis says East Asia already saw a decline in crypto trading volume',\n",
       " 'We are aware of the issue and are working to resolve it.',\n",
       " 'Galaxy Digital CEO expects more chop in crypto. Novogratz still expects strong fourth quarter for crypto',\n",
       " \"ETC is Canada's first multicurrency ETF. Ether and bitcoin make up around 65 per cent of the cryptocurrency market\",\n",
       " 'Bitcoin Latinum is a greener, faster, and more secure version of Bitcoin.',\n",
       " 'Shares of Marathon Digital, Riot Blockchain and Bit Digital are trading lower.',\n",
       " 'We are aware of the issue and are working to resolve it.',\n",
       " 'Early repayment of loans payable which are repayable in Bitcoin on September 29, 2021.',\n",
       " 'Chainlink, Bitcoin Cash SV lead crypto market cap higher through early hours.']"
      ]
     },
     "execution_count": 60,
     "metadata": {},
     "output_type": "execute_result"
    }
   ],
   "source": [
    "summaries['BTC']"
   ]
  },
  {
   "cell_type": "markdown",
   "id": "3ad3f41d",
   "metadata": {},
   "source": [
    "# 5. Adding Sentiment Analysis"
   ]
  },
  {
   "cell_type": "code",
   "execution_count": 61,
   "id": "86a10dfc",
   "metadata": {},
   "outputs": [
    {
     "name": "stderr",
     "output_type": "stream",
     "text": [
      "No model was supplied, defaulted to distilbert-base-uncased-finetuned-sst-2-english (https://huggingface.co/distilbert-base-uncased-finetuned-sst-2-english)\n"
     ]
    },
    {
     "data": {
      "application/vnd.jupyter.widget-view+json": {
       "model_id": "3c665d95718441cd86abe3ace7d9ba9a",
       "version_major": 2,
       "version_minor": 0
      },
      "text/plain": [
       "Downloading:   0%|          | 0.00/629 [00:00<?, ?B/s]"
      ]
     },
     "metadata": {},
     "output_type": "display_data"
    },
    {
     "data": {
      "application/vnd.jupyter.widget-view+json": {
       "model_id": "4c2e7402b00d44a38674208419436af2",
       "version_major": 2,
       "version_minor": 0
      },
      "text/plain": [
       "Downloading:   0%|          | 0.00/255M [00:00<?, ?B/s]"
      ]
     },
     "metadata": {},
     "output_type": "display_data"
    },
    {
     "data": {
      "application/vnd.jupyter.widget-view+json": {
       "model_id": "3579b839fe4a4eb1b92b98730322e800",
       "version_major": 2,
       "version_minor": 0
      },
      "text/plain": [
       "Downloading:   0%|          | 0.00/48.0 [00:00<?, ?B/s]"
      ]
     },
     "metadata": {},
     "output_type": "display_data"
    },
    {
     "data": {
      "application/vnd.jupyter.widget-view+json": {
       "model_id": "be917729cfb44a0980bfff4e907157c7",
       "version_major": 2,
       "version_minor": 0
      },
      "text/plain": [
       "Downloading:   0%|          | 0.00/226k [00:00<?, ?B/s]"
      ]
     },
     "metadata": {},
     "output_type": "display_data"
    }
   ],
   "source": [
    "from transformers import pipeline\n",
    "sentiment = pipeline('sentiment-analysis')"
   ]
  },
  {
   "cell_type": "code",
   "execution_count": 62,
   "id": "b810a453",
   "metadata": {},
   "outputs": [
    {
     "data": {
      "text/plain": [
       "[{'label': 'POSITIVE', 'score': 0.9979088306427002},\n",
       " {'label': 'NEGATIVE', 'score': 0.9259711503982544},\n",
       " {'label': 'POSITIVE', 'score': 0.9979088306427002},\n",
       " {'label': 'NEGATIVE', 'score': 0.9979314804077148},\n",
       " {'label': 'POSITIVE', 'score': 0.986530601978302},\n",
       " {'label': 'POSITIVE', 'score': 0.99866783618927},\n",
       " {'label': 'NEGATIVE', 'score': 0.9996521472930908},\n",
       " {'label': 'POSITIVE', 'score': 0.9979088306427002},\n",
       " {'label': 'NEGATIVE', 'score': 0.7991209030151367},\n",
       " {'label': 'NEGATIVE', 'score': 0.9874210357666016}]"
      ]
     },
     "execution_count": 62,
     "metadata": {},
     "output_type": "execute_result"
    }
   ],
   "source": [
    "sentiment(summaries['BTC'])"
   ]
  },
  {
   "cell_type": "code",
   "execution_count": 64,
   "id": "bd1c31ca",
   "metadata": {},
   "outputs": [
    {
     "data": {
      "text/plain": [
       "{'GME': [{'label': 'NEGATIVE', 'score': 0.9997784495353699},\n",
       "  {'label': 'POSITIVE', 'score': 0.9101589918136597},\n",
       "  {'label': 'POSITIVE', 'score': 0.9760345220565796},\n",
       "  {'label': 'NEGATIVE', 'score': 0.720937967300415},\n",
       "  {'label': 'POSITIVE', 'score': 0.9902737736701965},\n",
       "  {'label': 'NEGATIVE', 'score': 0.9926254153251648},\n",
       "  {'label': 'NEGATIVE', 'score': 0.9960700273513794},\n",
       "  {'label': 'NEGATIVE', 'score': 0.9525899291038513},\n",
       "  {'label': 'POSITIVE', 'score': 0.9984837174415588},\n",
       "  {'label': 'POSITIVE', 'score': 0.9994992017745972}],\n",
       " 'TSLA': [{'label': 'POSITIVE', 'score': 0.9979088306427002},\n",
       "  {'label': 'NEGATIVE', 'score': 0.9874534010887146},\n",
       "  {'label': 'POSITIVE', 'score': 0.9991242289543152},\n",
       "  {'label': 'NEGATIVE', 'score': 0.995489776134491},\n",
       "  {'label': 'NEGATIVE', 'score': 0.9994449019432068},\n",
       "  {'label': 'POSITIVE', 'score': 0.9931678175926208},\n",
       "  {'label': 'POSITIVE', 'score': 0.9979088306427002},\n",
       "  {'label': 'NEGATIVE', 'score': 0.9844943881034851},\n",
       "  {'label': 'NEGATIVE', 'score': 0.9132583737373352},\n",
       "  {'label': 'POSITIVE', 'score': 0.9995555281639099}],\n",
       " 'BTC': [{'label': 'POSITIVE', 'score': 0.9979088306427002},\n",
       "  {'label': 'NEGATIVE', 'score': 0.9259711503982544},\n",
       "  {'label': 'POSITIVE', 'score': 0.9979088306427002},\n",
       "  {'label': 'NEGATIVE', 'score': 0.9979314804077148},\n",
       "  {'label': 'POSITIVE', 'score': 0.986530601978302},\n",
       "  {'label': 'POSITIVE', 'score': 0.99866783618927},\n",
       "  {'label': 'NEGATIVE', 'score': 0.9996521472930908},\n",
       "  {'label': 'POSITIVE', 'score': 0.9979088306427002},\n",
       "  {'label': 'NEGATIVE', 'score': 0.7991209030151367},\n",
       "  {'label': 'NEGATIVE', 'score': 0.9874210357666016}]}"
      ]
     },
     "execution_count": 64,
     "metadata": {},
     "output_type": "execute_result"
    }
   ],
   "source": [
    "scores = {ticker:sentiment(summaries[ticker]) for ticker in monitored_tickers}\n",
    "scores"
   ]
  },
  {
   "cell_type": "code",
   "execution_count": 65,
   "id": "9eb9a277",
   "metadata": {},
   "outputs": [
    {
     "name": "stdout",
     "output_type": "stream",
     "text": [
      "Galaxy Digital CEO expects more chop in crypto. Novogratz still expects strong fourth quarter for crypto NEGATIVE 0.9979314804077148\n"
     ]
    }
   ],
   "source": [
    "print(summaries['BTC'][3], scores['BTC'][3]['label'], scores['BTC'][3]['score'])"
   ]
  },
  {
   "cell_type": "code",
   "execution_count": null,
   "id": "d6b5897a",
   "metadata": {},
   "outputs": [],
   "source": []
  },
  {
   "cell_type": "markdown",
   "id": "5158790a",
   "metadata": {},
   "source": [
    "# 6. Export Results to CSV"
   ]
  },
  {
   "cell_type": "code",
   "execution_count": 66,
   "id": "12af3b2c",
   "metadata": {},
   "outputs": [],
   "source": [
    "def create_output_array(summaries, scores, urls):\n",
    "    output = []\n",
    "    for ticker in monitored_tickers:\n",
    "        for counter in range(len(summaries[ticker])):\n",
    "            output_this = [\n",
    "                ticker,\n",
    "                summaries[ticker][counter],\n",
    "                scores[ticker][counter]['label'],\n",
    "                scores[ticker][counter]['score'],\n",
    "                urls[ticker][counter]\n",
    "            ]\n",
    "            output.append(output_this)\n",
    "    return output"
   ]
  },
  {
   "cell_type": "code",
   "execution_count": 67,
   "id": "233e67e6",
   "metadata": {},
   "outputs": [
    {
     "data": {
      "text/plain": [
       "[['GME',\n",
       "  'Shares of the self-described tech company are down 12% so far in September. One could be punishing meme trader crowd for lack of clarity',\n",
       "  'NEGATIVE',\n",
       "  0.9997784495353699,\n",
       "  'https://finance.yahoo.com/news/game-stop-stock-is-enduring-an-awful-september-180120497.html'],\n",
       " ['GME',\n",
       "  \"‘Retail factor is here to stay,' says Siebert Williams Shank. Off-exchange trading made up 47.2% of equity volume in January 2021\",\n",
       "  'POSITIVE',\n",
       "  0.9101589918136597,\n",
       "  'https://finance.yahoo.com/news/significant-role-of-retail-investing-here-to-stay-suzanne-shank-164155648.html'],\n",
       " ['GME',\n",
       "  'Hedge funds have lost billions of dollars in the short squeeze battle. Retail investors are slowly transforming market dynamics',\n",
       "  'POSITIVE',\n",
       "  0.9760345220565796,\n",
       "  'https://finance.yahoo.com/news/15-best-short-squeeze-stocks-140610450.html'],\n",
       " ['GME',\n",
       "  'RF Capital Management published its second-quarter 2021 investor letter. GME returned 977.81% since the beginning of the year',\n",
       "  'NEGATIVE',\n",
       "  0.720937967300415,\n",
       "  'https://finance.yahoo.com/news/why-rf-capital-management-continues-164430403.html'],\n",
       " ['GME',\n",
       "  'Plans to hire nearly 500 employees at new customer service center in Pembroke Pines, FL. Company has been undertaking radical digital transformation efforts',\n",
       "  'POSITIVE',\n",
       "  0.9902737736701965,\n",
       "  'https://finance.yahoo.com/news/gamestop-gme-hire-500-staff-135001043.html'],\n",
       " ['GME',\n",
       "  'Shares dip more than 10% in after-hours trading despite strong report. Management says they’re investing in long-term growth initiatives',\n",
       "  'NEGATIVE',\n",
       "  0.9926254153251648,\n",
       "  'https://finance.yahoo.com/news/gamestop-nyse-gme-earnings-120000520.html'],\n",
       " ['GME',\n",
       "  'Market maker Citadel Securities made a series of posts on Twitter. Claim that CEO Ken Griffin had never spoken to Vlad Tenev',\n",
       "  'NEGATIVE',\n",
       "  0.9960700273513794,\n",
       "  'https://ca.finance.yahoo.com/news/amc-gme-stocks-citadel-drama-123112651.html'],\n",
       " ['GME',\n",
       "  'Second quarter net sales of $1.183 billion compared to $942 million in the prior year. Cash and restricted cash of $1.78 billion ended the period',\n",
       "  'NEGATIVE',\n",
       "  0.9525899291038513,\n",
       "  'https://finance.yahoo.com/news/gamestop-reports-financial-results-q2-200500919.html'],\n",
       " ['GME',\n",
       "  \"Best Buy had an excellent July quarter, blowing analysts' estimates out of the water.\",\n",
       "  'POSITIVE',\n",
       "  0.9984837174415588,\n",
       "  'https://finance.yahoo.com/news/disheartening-gamestop-gme-earnings-r-212009089.html'],\n",
       " ['GME',\n",
       "  'Jim Simons’ Renaissance Technologies has made record profits over the last 28 years. 10 best stocks to buy for 2019',\n",
       "  'POSITIVE',\n",
       "  0.9994992017745972,\n",
       "  'https://finance.yahoo.com/news/jim-simons-quant-hedge-fund-171007244.html'],\n",
       " ['TSLA',\n",
       "  'We are aware of the issue and are working to resolve it.',\n",
       "  'POSITIVE',\n",
       "  0.9979088306427002,\n",
       "  'https://finance.yahoo.com/news/tesla-loses-china-fraud-case-134417684.html'],\n",
       " ['TSLA',\n",
       "  'Electric vehicle company has been stuck in neutral for the majority of 2021. Tesla could deliver strong outperformance over the long term',\n",
       "  'NEGATIVE',\n",
       "  0.9874534010887146,\n",
       "  'https://finance.yahoo.com/news/why-tesla-nasdaq-tsla-one-090300212.html'],\n",
       " ['TSLA',\n",
       "  'The Dow Jones, the S&P 500 and the Nasdaq are all in the green today. Dollar Tree to sell over $1 products in its Dollar Tree Plus stores',\n",
       "  'POSITIVE',\n",
       "  0.9991242289543152,\n",
       "  'https://finance.yahoo.com/news/why-10-stocks-move-wednesday-165500409.html'],\n",
       " ['TSLA',\n",
       "  'Tesla just obtained a patent for laser beam wiper technology.',\n",
       "  'NEGATIVE',\n",
       "  0.995489776134491,\n",
       "  'https://finance.yahoo.com/news/institutions-own-fewer-tesla-inc-121320878.html'],\n",
       " ['TSLA',\n",
       "  'Wood’s ARK Innovation ETF posted one of worst sessions in months. Tesla has generally outperformed in the global rout',\n",
       "  'NEGATIVE',\n",
       "  0.9994449019432068,\n",
       "  'https://finance.yahoo.com/news/cathie-wood-sells-270-million-110334731.html'],\n",
       " ['TSLA',\n",
       "  'Tesla, Apple, Facebook, Amazon, and Alphabet all moved this week.',\n",
       "  'POSITIVE',\n",
       "  0.9931678175926208,\n",
       "  'https://finance.yahoo.com/news/why-10-tech-stocks-moved-173615542.html'],\n",
       " ['TSLA',\n",
       "  'We are aware of the issue and are working to resolve it.',\n",
       "  'POSITIVE',\n",
       "  0.9979088306427002,\n",
       "  'https://finance.yahoo.com/news/tesla-steady-premarket-likely-nod-081308507.html'],\n",
       " ['TSLA',\n",
       "  'Wall Street expects record third-quarter deliveries. Tesla may have to clock in sales of about 750,000 in 2021',\n",
       "  'NEGATIVE',\n",
       "  0.9844943881034851,\n",
       "  'https://finance.yahoo.com/news/tesla-reports-q3-deliveries-week-152058539.html'],\n",
       " ['TSLA',\n",
       "  'Tesla Inc. (:TSLA) was in 60 hedge funds’ portfolios at the end of June.',\n",
       "  'NEGATIVE',\n",
       "  0.9132583737373352,\n",
       "  'https://finance.yahoo.com/news/hedge-funds-aren-t-crazy-131412391.html'],\n",
       " ['TSLA',\n",
       "  \"Elon Musk's electric vehicle maker has made giant strides. Tesla has been consistently beating market expectations\",\n",
       "  'POSITIVE',\n",
       "  0.9995555281639099,\n",
       "  'https://finance.yahoo.com/news/analyzing-tesla-inc-tsla-future-151031009.html'],\n",
       " ['BTC',\n",
       "  'We are aware of the issue and are working to resolve it.',\n",
       "  'POSITIVE',\n",
       "  0.9979088306427002,\n",
       "  'https://finance.yahoo.com/news/buying-bitcoins-atms-kraken-says-124255490.html'],\n",
       " ['BTC',\n",
       "  'Anthony Pompliano sees China crackdown as positive for U.S. economy. Chainalysis says East Asia already saw a decline in crypto trading volume',\n",
       "  'NEGATIVE',\n",
       "  0.9259711503982544,\n",
       "  'https://finance.yahoo.com/news/crypto-investors-should-be-thanking-china-for-this-says-anthony-pompliano-150308373.html'],\n",
       " ['BTC',\n",
       "  'We are aware of the issue and are working to resolve it.',\n",
       "  'POSITIVE',\n",
       "  0.9979088306427002,\n",
       "  'https://finance.yahoo.com/news/bitcoin-method-moving-country-forward-150000124.html'],\n",
       " ['BTC',\n",
       "  'Galaxy Digital CEO expects more chop in crypto. Novogratz still expects strong fourth quarter for crypto',\n",
       "  'NEGATIVE',\n",
       "  0.9979314804077148,\n",
       "  'https://finance.yahoo.com/news/important-levels-bitcoin-ethereum-mike-143814130.html'],\n",
       " ['BTC',\n",
       "  \"ETC is Canada's first multicurrency ETF. Ether and bitcoin make up around 65 per cent of the cryptocurrency market\",\n",
       "  'POSITIVE',\n",
       "  0.986530601978302,\n",
       "  'https://ca.finance.yahoo.com/news/first-etf-combining-bitcoin-and-ethereum-launches-in-canada-145811246.html'],\n",
       " ['BTC',\n",
       "  'Bitcoin Latinum is a greener, faster, and more secure version of Bitcoin.',\n",
       "  'POSITIVE',\n",
       "  0.99866783618927,\n",
       "  'https://finance.yahoo.com/news/bitcoin-latinum-ltnm-announces-upcoming-152200564.html'],\n",
       " ['BTC',\n",
       "  'Shares of Marathon Digital, Riot Blockchain and Bit Digital are trading lower.',\n",
       "  'NEGATIVE',\n",
       "  0.9996521472930908,\n",
       "  'https://finance.yahoo.com/news/why-bitcoin-related-ethereum-related-165348779.html'],\n",
       " ['BTC',\n",
       "  'We are aware of the issue and are working to resolve it.',\n",
       "  'POSITIVE',\n",
       "  0.9979088306427002,\n",
       "  'https://finance.yahoo.com/news/billionaire-venture-capitalist-believes-gold-002834415.html'],\n",
       " ['BTC',\n",
       "  'Early repayment of loans payable which are repayable in Bitcoin on September 29, 2021.',\n",
       "  'NEGATIVE',\n",
       "  0.7991209030151367,\n",
       "  'https://finance.yahoo.com/news/correction-source-canada-computational-unlimited-014900346.html'],\n",
       " ['BTC',\n",
       "  'Chainlink, Bitcoin Cash SV lead crypto market cap higher through early hours.',\n",
       "  'NEGATIVE',\n",
       "  0.9874210357666016,\n",
       "  'https://finance.yahoo.com/news/bitcoin-price-prediction-bears-eye-123847250.html']]"
      ]
     },
     "execution_count": 67,
     "metadata": {},
     "output_type": "execute_result"
    }
   ],
   "source": [
    "final_output = create_output_array(summaries, scores, cleaned_urls)\n",
    "final_output"
   ]
  },
  {
   "cell_type": "code",
   "execution_count": 68,
   "id": "17620e72",
   "metadata": {},
   "outputs": [],
   "source": [
    "final_output.insert(0, ['Ticker', 'Summary', 'Label', 'Confidence', 'URL'])"
   ]
  },
  {
   "cell_type": "code",
   "execution_count": 69,
   "id": "32eab358",
   "metadata": {},
   "outputs": [
    {
     "data": {
      "text/plain": [
       "[['Ticker', 'Summary', 'Label', 'Confidence', 'URL'],\n",
       " ['GME',\n",
       "  'Shares of the self-described tech company are down 12% so far in September. One could be punishing meme trader crowd for lack of clarity',\n",
       "  'NEGATIVE',\n",
       "  0.9997784495353699,\n",
       "  'https://finance.yahoo.com/news/game-stop-stock-is-enduring-an-awful-september-180120497.html'],\n",
       " ['GME',\n",
       "  \"‘Retail factor is here to stay,' says Siebert Williams Shank. Off-exchange trading made up 47.2% of equity volume in January 2021\",\n",
       "  'POSITIVE',\n",
       "  0.9101589918136597,\n",
       "  'https://finance.yahoo.com/news/significant-role-of-retail-investing-here-to-stay-suzanne-shank-164155648.html'],\n",
       " ['GME',\n",
       "  'Hedge funds have lost billions of dollars in the short squeeze battle. Retail investors are slowly transforming market dynamics',\n",
       "  'POSITIVE',\n",
       "  0.9760345220565796,\n",
       "  'https://finance.yahoo.com/news/15-best-short-squeeze-stocks-140610450.html'],\n",
       " ['GME',\n",
       "  'RF Capital Management published its second-quarter 2021 investor letter. GME returned 977.81% since the beginning of the year',\n",
       "  'NEGATIVE',\n",
       "  0.720937967300415,\n",
       "  'https://finance.yahoo.com/news/why-rf-capital-management-continues-164430403.html'],\n",
       " ['GME',\n",
       "  'Plans to hire nearly 500 employees at new customer service center in Pembroke Pines, FL. Company has been undertaking radical digital transformation efforts',\n",
       "  'POSITIVE',\n",
       "  0.9902737736701965,\n",
       "  'https://finance.yahoo.com/news/gamestop-gme-hire-500-staff-135001043.html'],\n",
       " ['GME',\n",
       "  'Shares dip more than 10% in after-hours trading despite strong report. Management says they’re investing in long-term growth initiatives',\n",
       "  'NEGATIVE',\n",
       "  0.9926254153251648,\n",
       "  'https://finance.yahoo.com/news/gamestop-nyse-gme-earnings-120000520.html'],\n",
       " ['GME',\n",
       "  'Market maker Citadel Securities made a series of posts on Twitter. Claim that CEO Ken Griffin had never spoken to Vlad Tenev',\n",
       "  'NEGATIVE',\n",
       "  0.9960700273513794,\n",
       "  'https://ca.finance.yahoo.com/news/amc-gme-stocks-citadel-drama-123112651.html'],\n",
       " ['GME',\n",
       "  'Second quarter net sales of $1.183 billion compared to $942 million in the prior year. Cash and restricted cash of $1.78 billion ended the period',\n",
       "  'NEGATIVE',\n",
       "  0.9525899291038513,\n",
       "  'https://finance.yahoo.com/news/gamestop-reports-financial-results-q2-200500919.html'],\n",
       " ['GME',\n",
       "  \"Best Buy had an excellent July quarter, blowing analysts' estimates out of the water.\",\n",
       "  'POSITIVE',\n",
       "  0.9984837174415588,\n",
       "  'https://finance.yahoo.com/news/disheartening-gamestop-gme-earnings-r-212009089.html'],\n",
       " ['GME',\n",
       "  'Jim Simons’ Renaissance Technologies has made record profits over the last 28 years. 10 best stocks to buy for 2019',\n",
       "  'POSITIVE',\n",
       "  0.9994992017745972,\n",
       "  'https://finance.yahoo.com/news/jim-simons-quant-hedge-fund-171007244.html'],\n",
       " ['TSLA',\n",
       "  'We are aware of the issue and are working to resolve it.',\n",
       "  'POSITIVE',\n",
       "  0.9979088306427002,\n",
       "  'https://finance.yahoo.com/news/tesla-loses-china-fraud-case-134417684.html'],\n",
       " ['TSLA',\n",
       "  'Electric vehicle company has been stuck in neutral for the majority of 2021. Tesla could deliver strong outperformance over the long term',\n",
       "  'NEGATIVE',\n",
       "  0.9874534010887146,\n",
       "  'https://finance.yahoo.com/news/why-tesla-nasdaq-tsla-one-090300212.html'],\n",
       " ['TSLA',\n",
       "  'The Dow Jones, the S&P 500 and the Nasdaq are all in the green today. Dollar Tree to sell over $1 products in its Dollar Tree Plus stores',\n",
       "  'POSITIVE',\n",
       "  0.9991242289543152,\n",
       "  'https://finance.yahoo.com/news/why-10-stocks-move-wednesday-165500409.html'],\n",
       " ['TSLA',\n",
       "  'Tesla just obtained a patent for laser beam wiper technology.',\n",
       "  'NEGATIVE',\n",
       "  0.995489776134491,\n",
       "  'https://finance.yahoo.com/news/institutions-own-fewer-tesla-inc-121320878.html'],\n",
       " ['TSLA',\n",
       "  'Wood’s ARK Innovation ETF posted one of worst sessions in months. Tesla has generally outperformed in the global rout',\n",
       "  'NEGATIVE',\n",
       "  0.9994449019432068,\n",
       "  'https://finance.yahoo.com/news/cathie-wood-sells-270-million-110334731.html'],\n",
       " ['TSLA',\n",
       "  'Tesla, Apple, Facebook, Amazon, and Alphabet all moved this week.',\n",
       "  'POSITIVE',\n",
       "  0.9931678175926208,\n",
       "  'https://finance.yahoo.com/news/why-10-tech-stocks-moved-173615542.html'],\n",
       " ['TSLA',\n",
       "  'We are aware of the issue and are working to resolve it.',\n",
       "  'POSITIVE',\n",
       "  0.9979088306427002,\n",
       "  'https://finance.yahoo.com/news/tesla-steady-premarket-likely-nod-081308507.html'],\n",
       " ['TSLA',\n",
       "  'Wall Street expects record third-quarter deliveries. Tesla may have to clock in sales of about 750,000 in 2021',\n",
       "  'NEGATIVE',\n",
       "  0.9844943881034851,\n",
       "  'https://finance.yahoo.com/news/tesla-reports-q3-deliveries-week-152058539.html'],\n",
       " ['TSLA',\n",
       "  'Tesla Inc. (:TSLA) was in 60 hedge funds’ portfolios at the end of June.',\n",
       "  'NEGATIVE',\n",
       "  0.9132583737373352,\n",
       "  'https://finance.yahoo.com/news/hedge-funds-aren-t-crazy-131412391.html'],\n",
       " ['TSLA',\n",
       "  \"Elon Musk's electric vehicle maker has made giant strides. Tesla has been consistently beating market expectations\",\n",
       "  'POSITIVE',\n",
       "  0.9995555281639099,\n",
       "  'https://finance.yahoo.com/news/analyzing-tesla-inc-tsla-future-151031009.html'],\n",
       " ['BTC',\n",
       "  'We are aware of the issue and are working to resolve it.',\n",
       "  'POSITIVE',\n",
       "  0.9979088306427002,\n",
       "  'https://finance.yahoo.com/news/buying-bitcoins-atms-kraken-says-124255490.html'],\n",
       " ['BTC',\n",
       "  'Anthony Pompliano sees China crackdown as positive for U.S. economy. Chainalysis says East Asia already saw a decline in crypto trading volume',\n",
       "  'NEGATIVE',\n",
       "  0.9259711503982544,\n",
       "  'https://finance.yahoo.com/news/crypto-investors-should-be-thanking-china-for-this-says-anthony-pompliano-150308373.html'],\n",
       " ['BTC',\n",
       "  'We are aware of the issue and are working to resolve it.',\n",
       "  'POSITIVE',\n",
       "  0.9979088306427002,\n",
       "  'https://finance.yahoo.com/news/bitcoin-method-moving-country-forward-150000124.html'],\n",
       " ['BTC',\n",
       "  'Galaxy Digital CEO expects more chop in crypto. Novogratz still expects strong fourth quarter for crypto',\n",
       "  'NEGATIVE',\n",
       "  0.9979314804077148,\n",
       "  'https://finance.yahoo.com/news/important-levels-bitcoin-ethereum-mike-143814130.html'],\n",
       " ['BTC',\n",
       "  \"ETC is Canada's first multicurrency ETF. Ether and bitcoin make up around 65 per cent of the cryptocurrency market\",\n",
       "  'POSITIVE',\n",
       "  0.986530601978302,\n",
       "  'https://ca.finance.yahoo.com/news/first-etf-combining-bitcoin-and-ethereum-launches-in-canada-145811246.html'],\n",
       " ['BTC',\n",
       "  'Bitcoin Latinum is a greener, faster, and more secure version of Bitcoin.',\n",
       "  'POSITIVE',\n",
       "  0.99866783618927,\n",
       "  'https://finance.yahoo.com/news/bitcoin-latinum-ltnm-announces-upcoming-152200564.html'],\n",
       " ['BTC',\n",
       "  'Shares of Marathon Digital, Riot Blockchain and Bit Digital are trading lower.',\n",
       "  'NEGATIVE',\n",
       "  0.9996521472930908,\n",
       "  'https://finance.yahoo.com/news/why-bitcoin-related-ethereum-related-165348779.html'],\n",
       " ['BTC',\n",
       "  'We are aware of the issue and are working to resolve it.',\n",
       "  'POSITIVE',\n",
       "  0.9979088306427002,\n",
       "  'https://finance.yahoo.com/news/billionaire-venture-capitalist-believes-gold-002834415.html'],\n",
       " ['BTC',\n",
       "  'Early repayment of loans payable which are repayable in Bitcoin on September 29, 2021.',\n",
       "  'NEGATIVE',\n",
       "  0.7991209030151367,\n",
       "  'https://finance.yahoo.com/news/correction-source-canada-computational-unlimited-014900346.html'],\n",
       " ['BTC',\n",
       "  'Chainlink, Bitcoin Cash SV lead crypto market cap higher through early hours.',\n",
       "  'NEGATIVE',\n",
       "  0.9874210357666016,\n",
       "  'https://finance.yahoo.com/news/bitcoin-price-prediction-bears-eye-123847250.html']]"
      ]
     },
     "execution_count": 69,
     "metadata": {},
     "output_type": "execute_result"
    }
   ],
   "source": [
    "final_output"
   ]
  },
  {
   "cell_type": "code",
   "execution_count": 70,
   "id": "fdd0fa82",
   "metadata": {},
   "outputs": [],
   "source": [
    "import csv\n",
    "with open('assetsummaries.csv', mode='w', newline='') as f:\n",
    "    csv_writer = csv.writer(f, delimiter=',', quotechar='\"', quoting=csv.QUOTE_MINIMAL)\n",
    "    csv_writer.writerows(final_output)"
   ]
  },
  {
   "cell_type": "code",
   "execution_count": null,
   "id": "0bb0a3f2",
   "metadata": {},
   "outputs": [],
   "source": []
  },
  {
   "cell_type": "code",
   "execution_count": null,
   "id": "91c51a70",
   "metadata": {},
   "outputs": [],
   "source": []
  },
  {
   "cell_type": "code",
   "execution_count": 71,
   "id": "a61d2db1",
   "metadata": {},
   "outputs": [],
   "source": [
    "import pandas as pd"
   ]
  },
  {
   "cell_type": "code",
   "execution_count": 73,
   "id": "f6bf7713",
   "metadata": {},
   "outputs": [],
   "source": [
    "df = pd.DataFrame(final_output)"
   ]
  },
  {
   "cell_type": "code",
   "execution_count": 75,
   "id": "50cd9e2c",
   "metadata": {},
   "outputs": [
    {
     "data": {
      "text/html": [
       "<div>\n",
       "<style scoped>\n",
       "    .dataframe tbody tr th:only-of-type {\n",
       "        vertical-align: middle;\n",
       "    }\n",
       "\n",
       "    .dataframe tbody tr th {\n",
       "        vertical-align: top;\n",
       "    }\n",
       "\n",
       "    .dataframe thead th {\n",
       "        text-align: right;\n",
       "    }\n",
       "</style>\n",
       "<table border=\"1\" class=\"dataframe\">\n",
       "  <thead>\n",
       "    <tr style=\"text-align: right;\">\n",
       "      <th></th>\n",
       "      <th>0</th>\n",
       "      <th>1</th>\n",
       "      <th>2</th>\n",
       "      <th>3</th>\n",
       "      <th>4</th>\n",
       "    </tr>\n",
       "  </thead>\n",
       "  <tbody>\n",
       "    <tr>\n",
       "      <th>0</th>\n",
       "      <td>Ticker</td>\n",
       "      <td>Summary</td>\n",
       "      <td>Label</td>\n",
       "      <td>Confidence</td>\n",
       "      <td>URL</td>\n",
       "    </tr>\n",
       "    <tr>\n",
       "      <th>1</th>\n",
       "      <td>GME</td>\n",
       "      <td>Shares of the self-described tech company are ...</td>\n",
       "      <td>NEGATIVE</td>\n",
       "      <td>0.999778</td>\n",
       "      <td>https://finance.yahoo.com/news/game-stop-stock...</td>\n",
       "    </tr>\n",
       "    <tr>\n",
       "      <th>2</th>\n",
       "      <td>GME</td>\n",
       "      <td>‘Retail factor is here to stay,' says Siebert ...</td>\n",
       "      <td>POSITIVE</td>\n",
       "      <td>0.910159</td>\n",
       "      <td>https://finance.yahoo.com/news/significant-rol...</td>\n",
       "    </tr>\n",
       "    <tr>\n",
       "      <th>3</th>\n",
       "      <td>GME</td>\n",
       "      <td>Hedge funds have lost billions of dollars in t...</td>\n",
       "      <td>POSITIVE</td>\n",
       "      <td>0.976035</td>\n",
       "      <td>https://finance.yahoo.com/news/15-best-short-s...</td>\n",
       "    </tr>\n",
       "    <tr>\n",
       "      <th>4</th>\n",
       "      <td>GME</td>\n",
       "      <td>RF Capital Management published its second-qua...</td>\n",
       "      <td>NEGATIVE</td>\n",
       "      <td>0.720938</td>\n",
       "      <td>https://finance.yahoo.com/news/why-rf-capital-...</td>\n",
       "    </tr>\n",
       "  </tbody>\n",
       "</table>\n",
       "</div>"
      ],
      "text/plain": [
       "        0                                                  1         2  \\\n",
       "0  Ticker                                            Summary     Label   \n",
       "1     GME  Shares of the self-described tech company are ...  NEGATIVE   \n",
       "2     GME  ‘Retail factor is here to stay,' says Siebert ...  POSITIVE   \n",
       "3     GME  Hedge funds have lost billions of dollars in t...  POSITIVE   \n",
       "4     GME  RF Capital Management published its second-qua...  NEGATIVE   \n",
       "\n",
       "            3                                                  4  \n",
       "0  Confidence                                                URL  \n",
       "1    0.999778  https://finance.yahoo.com/news/game-stop-stock...  \n",
       "2    0.910159  https://finance.yahoo.com/news/significant-rol...  \n",
       "3    0.976035  https://finance.yahoo.com/news/15-best-short-s...  \n",
       "4    0.720938  https://finance.yahoo.com/news/why-rf-capital-...  "
      ]
     },
     "execution_count": 75,
     "metadata": {},
     "output_type": "execute_result"
    }
   ],
   "source": [
    "df.head()"
   ]
  },
  {
   "cell_type": "code",
   "execution_count": 87,
   "id": "2d8268c6",
   "metadata": {},
   "outputs": [
    {
     "data": {
      "text/plain": [
       "NEGATIVE    15\n",
       "POSITIVE    15\n",
       "Label        1\n",
       "Name: 2, dtype: int64"
      ]
     },
     "execution_count": 87,
     "metadata": {},
     "output_type": "execute_result"
    }
   ],
   "source": [
    "df[2].value_counts()"
   ]
  },
  {
   "cell_type": "code",
   "execution_count": null,
   "id": "d595ff3b",
   "metadata": {},
   "outputs": [],
   "source": []
  }
 ],
 "metadata": {
  "kernelspec": {
   "display_name": "Python 3 (ipykernel)",
   "language": "python",
   "name": "python3"
  },
  "language_info": {
   "codemirror_mode": {
    "name": "ipython",
    "version": 3
   },
   "file_extension": ".py",
   "mimetype": "text/x-python",
   "name": "python",
   "nbconvert_exporter": "python",
   "pygments_lexer": "ipython3",
   "version": "3.8.12"
  }
 },
 "nbformat": 4,
 "nbformat_minor": 5
}
